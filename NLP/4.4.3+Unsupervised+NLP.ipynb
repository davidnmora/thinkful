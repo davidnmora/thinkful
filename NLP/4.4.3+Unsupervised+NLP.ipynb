{
 "cells": [
  {
   "cell_type": "code",
   "execution_count": 180,
   "metadata": {
    "run_control": {
     "frozen": false,
     "read_only": false
    }
   },
   "outputs": [],
   "source": [
    "import numpy as np\n",
    "import pandas as pd\n",
    "import scipy\n",
    "import matplotlib.pyplot as plt\n",
    "import seaborn as sns\n",
    "from nltk.corpus import gutenberg\n",
    "from sklearn.model_selection import train_test_split\n",
    "import spacy\n",
    "import re\n",
    "%matplotlib inline"
   ]
  },
  {
   "cell_type": "markdown",
   "metadata": {},
   "source": [
    "# What I understand of Latent Semantic Analysis:\n",
    "After cleaning and ignoring stop words, we use tf-idf to identify words that are particular or significant within a small number of sentences. \"The tf_idf score will be highest for a term that occurs a lot within a small number of sentences, and lowest for a word that occurs in most or all sentences\". Then make each word a one hot encoded dimension for each paragraph (document). \n",
    "\n",
    "That's a lot of dimensions! Also, *we have words like aweful and terrible as seperate concepts.* \n",
    "\n",
    "Solution to both issues? Shrink it down with Singular Value Decomposition (SVD), which like PCA but not mean-centered, which tries to colapse similar words into single components. **For example, maybe \"Emma\" and \"smart\" appear often together, so those could be collapsed into a single component (right?)** \"What we get, in the end, is clusters of terms that presumably reflect a topic,\" with each paragraph (document) scored on each topic.\n",
    "\n",
    "Document similarity, is just the difference between two document's scores. Also, you can find documents which are highly associated with a given topic."
   ]
  },
  {
   "cell_type": "code",
   "execution_count": 181,
   "metadata": {},
   "outputs": [],
   "source": [
    "nlp = spacy.load('en')"
   ]
  },
  {
   "cell_type": "code",
   "execution_count": 256,
   "metadata": {},
   "outputs": [],
   "source": [
    "NUM_PARAS_TO_PROCESS = 100"
   ]
  },
  {
   "cell_type": "code",
   "execution_count": 258,
   "metadata": {
    "run_control": {
     "frozen": false,
     "read_only": false
    }
   },
   "outputs": [],
   "source": [
    "def clean_word(word, lemmas=False):\n",
    "    word = word.text\n",
    "    if lemmas:\n",
    "        word = word.lemma_\n",
    "        word = word if ('-PRON-' not in word) else ''\n",
    "    return re.sub(r'(volume)|(chapter)|(--)', '', word)\n",
    "\n",
    "def get_text_paras(file_name='austen-emma.txt', lemmas=False):\n",
    "    emma=gutenberg.paras(file_name)\n",
    "    emma_paras=[]\n",
    "    i = 0\n",
    "    for paragraph in emma:\n",
    "        para=nlp(' '.join(paragraph[0]))\n",
    "        if not (('Oh' in para.text or 'Ah' in para.text) and ('!' in para.text)):\n",
    "            para = [clean_word(word, lemmas) for word in para]\n",
    "            #Forming each paragraph into a string and adding it to the list of strings.\n",
    "            emma_paras.append(' '.join(para))\n",
    "        i += 1\n",
    "        if i == NUM_PARAS_TO_PROCESS:\n",
    "            break\n",
    "    return emma_paras"
   ]
  },
  {
   "cell_type": "code",
   "execution_count": 259,
   "metadata": {
    "scrolled": true
   },
   "outputs": [
    {
     "data": {
      "text/plain": [
       "['[ Emma by Jane Austen 1816 ]',\n",
       " 'VOLUME I',\n",
       " 'CHAPTER I',\n",
       " 'Emma Woodhouse , handsome , clever , and rich , with a comfortable home and happy disposition , seemed to unite some of the best blessings of existence ; and had lived nearly twenty - one years in the world with very little to distress or vex her .',\n",
       " \"She was the youngest of the two daughters of a most affectionate , indulgent father ; and had , in consequence of her sister ' s marriage , been mistress of his house from a very early period .\",\n",
       " \"Sixteen years had Miss Taylor been in Mr . Woodhouse ' s family , less as a governess than a friend , very fond of both daughters , but particularly of Emma .\",\n",
       " \"The real evils , indeed , of Emma ' s situation were the power of having rather too much her own way , and a disposition to think a little too well of herself ; these were the disadvantages which threatened alloy to her many enjoyments .\",\n",
       " 'Sorrow came  a gentle sorrow  but not at all in the shape of any disagreeable consciousness . Miss Taylor married .',\n",
       " 'The event had every promise of happiness for her friend .',\n",
       " 'How was she to bear the change ?  It was true that her friend was going only half a mile from them ; but Emma was aware that great must be the difference between a Mrs . Weston , only half a mile from them , and a Miss Taylor in the house ; and with all her advantages , natural and domestic , she was now in great danger of suffering from intellectual solitude .',\n",
       " 'The evil of the actual disparity in their ages ( and Mr . Woodhouse had not married early ) was much increased by his constitution and habits ; for having been a valetudinarian all his life , without activity of mind or body , he was a much older man in ways than in years ; and though everywhere beloved for the friendliness of his heart and his amiable temper , his talents could not have recommended him at any time .',\n",
       " 'Her sister , though comparatively but little removed by matrimony , being settled in London , only sixteen miles off , was much beyond her daily reach ; and many a long October and November evening must be struggled through at Hartfield , before Christmas brought the next visit from Isabella and her husband , and their little children , to fill the house , and give her pleasant society again .',\n",
       " 'Highbury , the large and populous village , almost amounting to a town , to which Hartfield , in spite of its separate lawn , and shrubberies , and name , did really belong , afforded her no equals .',\n",
       " '\" Poor Miss Taylor !  I wish she were here again .',\n",
       " '\" I can not agree with you , papa ; you know I can not .',\n",
       " '\" A house of her own !  But where is the advantage of a house of her own ?',\n",
       " '\" How often we shall be going to see them , and they coming to see us !  We shall be always meeting !',\n",
       " '\" My dear , how am I to get so far ?',\n",
       " '\" No , papa , nobody thought of your walking .',\n",
       " '\" The carriage !',\n",
       " '\" They are to be put into Mr . Weston \\' s stable , papa .',\n",
       " '\" I am very glad I did think of her .',\n",
       " 'Emma spared no exertions to maintain this happier flow of ideas , and hoped , by the help of backgammon , to get her father tolerably through the evening , and be attacked by no regrets but her own .',\n",
       " \"Mr . Knightley , a sensible man about seven or eight - and - thirty , was not only a very old and intimate friend of the family , but particularly connected with it , as the elder brother of Isabella ' s husband .\",\n",
       " '\" Not at all , sir .',\n",
       " '\" But you must have found it very damp and dirty .',\n",
       " '\" Dirty , sir !',\n",
       " '\" Well !',\n",
       " '\" By the bye  I have not wished you joy .',\n",
       " '\" Poor Mr . and Miss Woodhouse , if you please ; but I can not possibly say ` poor Miss Taylor . \\'',\n",
       " '\" Especially when _ one _ of those two is such a fanciful , troublesome creature ! \"',\n",
       " '\" I believe it is very true , my dear , indeed , \" said Mr . Woodhouse , with a sigh .',\n",
       " '\" My dearest papa !',\n",
       " 'Mr . Knightley , in fact , was one of the few people who could see faults in Emma Woodhouse , and the only one who ever told her of them : and though this was not particularly agreeable to Emma herself , she knew it would be so much less so to her father , that she would not have him really suspect such a circumstance as her not being thought perfect by every body .',\n",
       " '\" Emma knows I never flatter her , \" said Mr . Knightley , \" but I meant no reflection on any body .',\n",
       " '\" Well , \" said Emma , willing to let it pass  \" you want to hear about the wedding ; and I shall be happy to tell you , for we all behaved charmingly .',\n",
       " '\" Dear Emma bears every thing so well , \" said her father .',\n",
       " 'Emma turned away her head , divided between tears and smiles .',\n",
       " '\" And you have forgotten one matter of joy to me , \" said Emma , \" and a very considerable one  that I made the match myself .',\n",
       " 'Mr . Knightley shook his head at her .',\n",
       " '\" I promise you to make none for myself , papa ; but I must , indeed , for other people .',\n",
       " '\" Ever since the day  about four years ago  that Miss Taylor and I met with him in Broadway Lane , when , because it began to drizzle , he darted away with so much gallantry , and borrowed two umbrellas for us from Farmer Mitchell \\' s , I made up my mind on the subject .',\n",
       " '\" I do not understand what you mean by ` success , \\' \" said Mr . Knightley .',\n",
       " '\" And have you never known the pleasure and triumph of a lucky guess ?  I pity you . I thought you cleverer  for , depend upon it a lucky guess is never merely luck .',\n",
       " '\" A straightforward , open - hearted man like Weston , and a rational , unaffected woman like Miss Taylor , may be safely left to manage their own concerns .',\n",
       " '\" Emma never thinks of herself , if she can do good to others , \" rejoined Mr . Woodhouse , understanding but in part .',\n",
       " '\" Only one more , papa ; only for Mr . Elton .',\n",
       " '\" Mr . Elton is a very pretty young man , to be sure , and a very good young man , and I have a great regard for him .',\n",
       " '\" With a great deal of pleasure , sir , at any time , \" said Mr . Knightley , laughing , \" and I agree with you entirely , that it will be a much better thing .',\n",
       " 'CHAPTER II',\n",
       " 'Mr . Weston was a native of Highbury , and born of a respectable family , which for the last two or three generations had been rising into gentility and property .',\n",
       " 'Captain Weston was a general favourite ; and when the chances of his military life had introduced him to Miss Churchill , of a great Yorkshire family , and Miss Churchill fell in love with him , nobody was surprized , except her brother and his wife , who had never seen him , and who were full of pride and importance , which the connexion would offend .',\n",
       " 'Miss Churchill , however , being of age , and with the full command of her fortune  though her fortune bore no proportion to the family - estate  was not to be dissuaded from the marriage , and it took place , to the infinite mortification of Mr . and Mrs . Churchill , who threw her off with due decorum .',\n",
       " \"Captain Weston , who had been considered , especially by the Churchills , as making such an amazing match , was proved to have much the worst of the bargain ; for when his wife died , after a three years ' marriage , he was rather a poorer man than at first , and with a child to maintain .\",\n",
       " 'A complete change of life became desirable .',\n",
       " 'It was now some time since Miss Taylor had begun to influence his schemes ; but as it was not the tyrannic influence of youth on youth , it had not shaken his determination of never settling till he could purchase Randalls , and the sale of Randalls was long looked forward to ; but he had gone steadily on , with these objects in view , till they were accomplished .',\n",
       " \"He had only himself to please in his choice : his fortune was his own ; for as to Frank , it was more than being tacitly brought up as his uncle ' s heir , it had become so avowed an adoption as to have him assume the name of Churchill on coming of age .\",\n",
       " 'Mr . Frank Churchill was one of the boasts of Highbury , and a lively curiosity to see him prevailed , though the compliment was so little returned that he had never been there in his life .',\n",
       " \"Now , upon his father ' s marriage , it was very generally proposed , as a most proper attention , that the visit should take place .\",\n",
       " 'It was , indeed , a highly prized letter .',\n",
       " \"She knew that at times she must be missed ; and could not think , without pain , of Emma ' s losing a single pleasure , or suffering an hour ' s ennui , from the want of her companionableness : but dear Emma was of no feeble character ; she was more equal to her situation than most girls would have been , and had sense , and energy , and spirits that might be hoped would bear her well and happily through its little difficulties and privations .\",\n",
       " \"Her situation was altogether the subject of hours of gratitude to Mrs . Weston , and of moments only of regret ; and her satisfaction  her more than satisfaction  her cheerful enjoyment , was so just and so apparent , that Emma , well as she knew her father , was sometimes taken by surprize at his being still able to pity ` poor Miss Taylor , ' when they left her at Randalls in the centre of every domestic comfort , or saw her go away in the evening attended by her pleasant husband to a carriage of her own .\",\n",
       " 'There was no recovering Miss Taylor  nor much likelihood of ceasing to pity her ; but a few weeks brought some alleviation to Mr . Woodhouse .',\n",
       " \"There was a strange rumour in Highbury of all the little Perrys being seen with a slice of Mrs . Weston ' s wedding - cake in their hands : but Mr . Woodhouse would never believe it .\",\n",
       " 'CHAPTER III',\n",
       " 'Mr . Woodhouse was fond of society in his own way .',\n",
       " \"Real , long - standing regard brought the Westons and Mr . Knightley ; and by Mr . Elton , a young man living alone without liking it , the privilege of exchanging any vacant evening of his own blank solitude for the elegancies and society of Mr . Woodhouse ' s drawing - room , and the smiles of his lovely daughter , was in no danger of being thrown away .\",\n",
       " 'After these came a second set ; among the most come - at - able of whom were Mrs . and Miss Bates , and Mrs . Goddard , three ladies almost always at the service of an invitation from Hartfield , and who were fetched and carried home so often , that Mr . Woodhouse thought it no hardship for either James or the horses .',\n",
       " 'Mrs . Bates , the widow of a former vicar of Highbury , was a very old lady , almost past every thing but tea and quadrille .',\n",
       " 'Mrs . Goddard was the mistress of a School  not of a seminary , or an establishment , or any thing which professed , in long sentences of refined nonsense , to combine liberal acquirements with elegant morality , upon new principles and new systems  and where young ladies for enormous pay might be screwed out of health and into vanity  but a real , honest , old - fashioned Boarding - school , where a reasonable quantity of accomplishments were sold at a reasonable price , and where girls might be sent to be out of the way , and scramble themselves into a little education , without any danger of coming back prodigies .',\n",
       " \"These were the ladies whom Emma found herself very frequently able to collect ; and happy was she , for her father ' s sake , in the power ; though , as far as she was herself concerned , it was no remedy for the absence of Mrs . Weston .\",\n",
       " 'As she sat one morning , looking forward to exactly such a close of the present day , a note was brought from Mrs . Goddard , requesting , in most respectful terms , to be allowed to bring Miss Smith with her ; a most welcome request : for Miss Smith was a girl of seventeen , whom Emma knew very well by sight , and had long felt an interest in , on account of her beauty .',\n",
       " 'Harriet Smith was the natural daughter of somebody .',\n",
       " 'She was a very pretty girl , and her beauty happened to be of a sort which Emma particularly admired .',\n",
       " \"She was not struck by any thing remarkably clever in Miss Smith ' s conversation , but she found her altogether very engaging  not inconveniently shy , not unwilling to talk  and yet so far from pushing , shewing so proper and becoming a deference , seeming so pleasantly grateful for being admitted to Hartfield , and so artlessly impressed by the appearance of every thing in so superior a style to what she had been used to , that she must have good sense , and deserve encouragement .\",\n",
       " 'She was so busy in admiring those soft blue eyes , in talking and listening , and forming all these schemes in the in - betweens , that the evening flew away at a very unusual rate ; and the supper - table , which always closed such parties , and for which she had been used to sit and watch the due time , was all set out and ready , and moved forwards to the fire , before she was aware .',\n",
       " 'Upon such occasions poor Mr . Woodhouses feelings were in sad warfare .',\n",
       " 'Such another small basin of thin gruel as his own was all that he could , with thorough self - approbation , recommend ; though he might constrain himself , while the ladies were comfortably clearing the nicer things , to say :',\n",
       " '\" Mrs . Bates , let me propose your venturing on one of these eggs .',\n",
       " 'Emma allowed her father to talk  but supplied her visitors in a much more satisfactory style , and on the present evening had particular pleasure in sending them away happy .',\n",
       " 'CHAPTER IV',\n",
       " \"Harriet Smith ' s intimacy at Hartfield was soon a settled thing .\",\n",
       " 'Harriet certainly was not clever , but she had a sweet , docile , grateful disposition , was totally free from conceit , and only desiring to be guided by any one she looked up to .',\n",
       " 'Her first attempts at usefulness were in an endeavour to find out who were the parents , but Harriet could not tell .',\n",
       " 'Mrs . Goddard , and the teachers , and the girls and the affairs of the school in general , formed naturally a great part of the conversation  and but for her acquaintance with the Martins of Abbey - Mill Farm , it must have been the whole .',\n",
       " 'For some time she was amused , without thinking beyond the immediate cause ; but as she came to understand the family better , other feelings arose .',\n",
       " 'With this inspiriting notion , her questions increased in number and meaning ; and she particularly led Harriet to talk more of Mr . Martin , and there was evidently no dislike to it .',\n",
       " '\" Well done , Mrs .',\n",
       " '\" And when she had come away , Mrs . Martin was so very kind as to send Mrs . Goddard a beautiful goose  the finest goose Mrs . Goddard had ever seen .',\n",
       " '\" Mr . Martin , I suppose , is not a man of information beyond the line of his own business ?',\n",
       " 'The next question was ',\n",
       " '\" What sort of looking man is Mr .',\n",
       " '\" That may be , and I may have seen him fifty times , but without having any idea of his name .',\n",
       " '\" To be sure .',\n",
       " '\" I have no doubt of his being a very respectable young man .',\n",
       " '\" He was four - and - twenty the 8th of last June , and my birthday is the 23rd just a fortnight and a day \\' s difference  which is very odd . \"',\n",
       " '\" Only four - and - twenty .']"
      ]
     },
     "execution_count": 259,
     "metadata": {},
     "output_type": "execute_result"
    }
   ],
   "source": [
    "get_text_paras()"
   ]
  },
  {
   "cell_type": "markdown",
   "metadata": {
    "run_control": {
     "frozen": false,
     "read_only": false
    }
   },
   "source": [
    "# tfidf in sklearn\n",
    "\n",
    "Happily for us, sklearn has a tfidf function that will do all our heavy lifting.  It also has a [very long list of stop words](https://github.com/scikit-learn/scikit-learn/blob/master/sklearn/feature_extraction/stop_words.py).  Since we're going to be doing dimension reduction later on anyway, let's keep all the words for now."
   ]
  },
  {
   "cell_type": "code",
   "execution_count": 242,
   "metadata": {
    "run_control": {
     "frozen": false,
     "read_only": false
    },
    "scrolled": false
   },
   "outputs": [],
   "source": [
    "def run_tfidf(emma_paras, max_df=0.5, min_df=2):\n",
    "    from sklearn.feature_extraction.text import TfidfVectorizer\n",
    "\n",
    "    X_train, X_test = train_test_split(emma_paras, test_size=0.4, random_state=0)\n",
    "\n",
    "    vectorizer = TfidfVectorizer(max_df=max_df, # drop words that occur in more than half the paragraphs\n",
    "                                 min_df=min_df, # only use words that appear at least [twice]\n",
    "                                 stop_words='english', \n",
    "                                 lowercase=True, #convert everything to lower case (since Alice in Wonderland has the HABIT of CAPITALIZING WORDS for EMPHASIS)\n",
    "                                 use_idf=True,#we definitely want to use inverse document frequencies in our weighting\n",
    "                                 norm=u'l2', #Applies a correction factor so that longer paragraphs and shorter paragraphs get treated equally\n",
    "                                 smooth_idf=True #Adds 1 to all document frequencies, as if an extra document existed that used every word once.  Prevents divide-by-zero errors\n",
    "                                )\n",
    "\n",
    "\n",
    "    #Applying the vectorizer\n",
    "    emma_paras_tfidf=vectorizer.fit_transform(emma_paras)\n",
    "    print(\"Number of features: %d\" % emma_paras_tfidf.get_shape()[1])\n",
    "\n",
    "    #splitting into training and test sets\n",
    "    X_train_tfidf, X_test_tfidf= train_test_split(emma_paras_tfidf, test_size=0.4, random_state=0)\n",
    "\n",
    "\n",
    "    #Reshapes the vectorizer output into something people can read\n",
    "    X_train_tfidf_csr = X_train_tfidf.tocsr()\n",
    "\n",
    "    #number of paragraphs\n",
    "    n = X_train_tfidf_csr.shape[0]\n",
    "    #A list of dictionaries, one per paragraph\n",
    "    tfidf_bypara = [{} for _ in range(0,n)]\n",
    "    #List of features\n",
    "    terms = vectorizer.get_feature_names()\n",
    "    #for each paragraph, lists the feature words and their tf-idf scores\n",
    "    for i, j in zip(*X_train_tfidf_csr.nonzero()):\n",
    "        tfidf_bypara[i][terms[j]] = X_train_tfidf_csr[i, j]\n",
    "    \n",
    "    return X_train_tfidf, X_train, X_test_tfidf, X_test, tfidf_bypara"
   ]
  },
  {
   "cell_type": "code",
   "execution_count": 243,
   "metadata": {},
   "outputs": [
    {
     "name": "stdout",
     "output_type": "stream",
     "text": [
      "Original sentence: \" I do think it is , without exception , the best charade I ever read .\"\n",
      "Tf_idf vector: {'exception': 0.5493200758383243, 'charade': 0.5074055444278235, 'read': 0.41206198737738187, 'think': 0.29520136387708074, 'best': 0.42877516379636}\n"
     ]
    }
   ],
   "source": [
    "# Keep in mind that the log base 2 of 1 is 0, so a tf-idf score of 0 indicates that the word was present once in that sentence.\n",
    "print('Original sentence:', X_train[100])\n",
    "print('Tf_idf vector:', tfidf_bypara[100])\n"
   ]
  },
  {
   "cell_type": "markdown",
   "metadata": {
    "run_control": {
     "frozen": false,
     "read_only": false
    }
   },
   "source": [
    "# Dimension reduction\n",
    "Okay, now we have our vectors, with one vector per paragraph.  It's time to do some dimension reduction.  We use the Singular Value Decomposition (SVD) function from sklearn rather than PCA because we don't want to mean-center our variables (and thus lose sparsity):"
   ]
  },
  {
   "cell_type": "code",
   "execution_count": 244,
   "metadata": {
    "run_control": {
     "frozen": false,
     "read_only": false
    },
    "scrolled": false
   },
   "outputs": [],
   "source": [
    "def run_dim_reduction(X_data_tfidf, X):\n",
    "    from sklearn.decomposition import TruncatedSVD\n",
    "    from sklearn.pipeline import make_pipeline\n",
    "    from sklearn.preprocessing import Normalizer\n",
    "    #Our SVD data reducer.  We are going to reduce the feature space from 1379 to 130.\n",
    "    svd= TruncatedSVD(130)\n",
    "    lsa = make_pipeline(svd, Normalizer(copy=False))\n",
    "    # Run SVD on the training data, then project the training data.\n",
    "    X_lsa = lsa.fit_transform(X_data_tfidf)\n",
    "\n",
    "    variance_explained=svd.explained_variance_ratio_\n",
    "    total_variance = variance_explained.sum()\n",
    "    print(\"Percent variance captured by all components:\",total_variance*100)\n",
    "\n",
    "    #Looking at what sorts of paragraphs our solution considers similar, for the first five identified topics\n",
    "    paras_by_component=pd.DataFrame(X_lsa,index=X)\n",
    "    for i in range(5):\n",
    "        print('\\n\\nComponent {}:'.format(i))\n",
    "        print(paras_by_component.loc[:,i].sort_values(ascending=False)[0:10])\n",
    "        \n",
    "    return X_lsa"
   ]
  },
  {
   "cell_type": "markdown",
   "metadata": {},
   "source": [
    "# Run on training data"
   ]
  },
  {
   "cell_type": "code",
   "execution_count": 260,
   "metadata": {},
   "outputs": [],
   "source": [
    "emma_paras = get_text_paras('austen-emma.txt')"
   ]
  },
  {
   "cell_type": "code",
   "execution_count": 261,
   "metadata": {
    "scrolled": false
   },
   "outputs": [
    {
     "name": "stdout",
     "output_type": "stream",
     "text": [
      "Number of features: 154\n",
      "Percent variance captured by all components: 99.99999999999999\n",
      "\n",
      "\n",
      "Component 0:\n",
      "\" They are to be put into Mr . Weston ' s stable , papa .                                                                                                              0.561360\n",
      "\" Emma knows I never flatter her , \" said Mr . Knightley , \" but I meant no reflection on any body .                                                                   0.532323\n",
      "\" Only one more , papa ; only for Mr . Elton .                                                                                                                         0.456312\n",
      "Sixteen years had Miss Taylor been in Mr . Woodhouse ' s family , less as a governess than a friend , very fond of both daughters , but particularly of Emma .         0.432171\n",
      "\" I do not understand what you mean by ` success , ' \" said Mr . Knightley .                                                                                           0.430267\n",
      "Mr . Knightley shook his head at her .                                                                                                                                 0.373687\n",
      "\" I believe it is very true , my dear , indeed , \" said Mr . Woodhouse , with a sigh .                                                                                 0.373667\n",
      "Mr . Weston was a native of Highbury , and born of a respectable family , which for the last two or three generations had been rising into gentility and property .    0.371722\n",
      "\" Poor Mr . and Miss Woodhouse , if you please ; but I can not possibly say ` poor Miss Taylor . '                                                                     0.359880\n",
      "\" Dear Emma bears every thing so well , \" said her father .                                                                                                            0.352048\n",
      "Name: 0, dtype: float64\n",
      "\n",
      "\n",
      "Component 1:\n",
      "\" My dearest papa !                                                                                                                                                                               0.775147\n",
      "\" They are to be put into Mr . Weston ' s stable , papa .                                                                                                                                         0.620043\n",
      "\" I can not agree with you , papa ; you know I can not .                                                                                                                                          0.618904\n",
      "\" Only one more , papa ; only for Mr . Elton .                                                                                                                                                    0.616057\n",
      "\" I promise you to make none for myself , papa ; but I must , indeed , for other people .                                                                                                         0.523459\n",
      "Mr . Weston was a native of Highbury , and born of a respectable family , which for the last two or three generations had been rising into gentility and property .                               0.077987\n",
      "\" Mr . Elton is a very pretty young man , to be sure , and a very good young man , and I have a great regard for him .                                                                            0.060888\n",
      "\" What sort of looking man is Mr .                                                                                                                                                                0.027648\n",
      "Mr . Frank Churchill was one of the boasts of Highbury , and a lively curiosity to see him prevailed , though the compliment was so little returned that he had never been there in his life .    0.022071\n",
      "Upon such occasions poor Mr . Woodhouses feelings were in sad warfare .                                                                                                                           0.020119\n",
      "Name: 1, dtype: float64\n",
      "\n",
      "\n",
      "Component 2:\n",
      "\" Emma knows I never flatter her , \" said Mr . Knightley , \" but I meant no reflection on any body .                                                        0.489129\n",
      "\" And you have forgotten one matter of joy to me , \" said Emma , \" and a very considerable one  that I made the match myself .                              0.443676\n",
      "\" I do not understand what you mean by ` success , ' \" said Mr . Knightley .                                                                                0.401604\n",
      "\" Dear Emma bears every thing so well , \" said her father .                                                                                                 0.371489\n",
      "[ Emma by Jane Austen 1816 ]                                                                                                                                0.295763\n",
      "\" Well , \" said Emma , willing to let it pass  \" you want to hear about the wedding ; and I shall be happy to tell you , for we all behaved charmingly .    0.277816\n",
      "\" I believe it is very true , my dear , indeed , \" said Mr . Woodhouse , with a sigh .                                                                      0.266603\n",
      "Mr . Knightley shook his head at her .                                                                                                                      0.234547\n",
      "\" By the bye  I have not wished you joy .                                                                                                                   0.174624\n",
      "Emma turned away her head , divided between tears and smiles .                                                                                              0.142547\n",
      "Name: 2, dtype: float64\n",
      "\n",
      "\n",
      "Component 3:\n",
      "These were the ladies whom Emma found herself very frequently able to collect ; and happy was she , for her father ' s sake , in the power ; though , as far as she was herself concerned , it was no remedy for the absence of Mrs . Weston .                                                                                      0.420012\n",
      "\" Well done , Mrs .                                                                                                                                                                                                                                                                                                                 0.392676\n",
      "\" And when she had come away , Mrs . Martin was so very kind as to send Mrs . Goddard a beautiful goose  the finest goose Mrs . Goddard had ever seen .                                                                                                                                                                             0.385207\n",
      "\" Dear Emma bears every thing so well , \" said her father .                                                                                                                                                                                                                                                                         0.326599\n",
      "\" My dearest papa !                                                                                                                                                                                                                                                                                                                 0.326258\n",
      "\" I can not agree with you , papa ; you know I can not .                                                                                                                                                                                                                                                                            0.280314\n",
      "[ Emma by Jane Austen 1816 ]                                                                                                                                                                                                                                                                                                        0.270047\n",
      "After these came a second set ; among the most come - at - able of whom were Mrs . and Miss Bates , and Mrs . Goddard , three ladies almost always at the service of an invitation from Hartfield , and who were fetched and carried home so often , that Mr . Woodhouse thought it no hardship for either James or the horses .    0.253361\n",
      "\" And you have forgotten one matter of joy to me , \" said Emma , \" and a very considerable one  that I made the match myself .                                                                                                                                                                                                      0.246717\n",
      "\" I promise you to make none for myself , papa ; but I must , indeed , for other people .                                                                                                                                                                                                                                           0.243304\n",
      "Name: 3, dtype: float64\n",
      "\n",
      "\n",
      "Component 4:\n",
      "CHAPTER III                                                                                                                                                                                                                                                                                                                                                                                                                             1.000000e+00\n",
      "CHAPTER II                                                                                                                                                                                                                                                                                                                                                                                                                              1.000000e+00\n",
      "It was , indeed , a highly prized letter .                                                                                                                                                                                                                                                                                                                                                                                              2.922655e-02\n",
      "\" A straightforward , open - hearted man like Weston , and a rational , unaffected woman like Miss Taylor , may be safely left to manage their own concerns .                                                                                                                                                                                                                                                                           1.373831e-15\n",
      "Sixteen years had Miss Taylor been in Mr . Woodhouse ' s family , less as a governess than a friend , very fond of both daughters , but particularly of Emma .                                                                                                                                                                                                                                                                          1.231899e-15\n",
      "The evil of the actual disparity in their ages ( and Mr . Woodhouse had not married early ) was much increased by his constitution and habits ; for having been a valetudinarian all his life , without activity of mind or body , he was a much older man in ways than in years ; and though everywhere beloved for the friendliness of his heart and his amiable temper , his talents could not have recommended him at any time .    1.147216e-15\n",
      "\" Ever since the day  about four years ago  that Miss Taylor and I met with him in Broadway Lane , when , because it began to drizzle , he darted away with so much gallantry , and borrowed two umbrellas for us from Farmer Mitchell ' s , I made up my mind on the subject .                                                                                                                                                         1.129433e-15\n",
      "Mr . Knightley , a sensible man about seven or eight - and - thirty , was not only a very old and intimate friend of the family , but particularly connected with it , as the elder brother of Isabella ' s husband .                                                                                                                                                                                                                   1.076701e-15\n",
      "\" I have no doubt of his being a very respectable young man .                                                                                                                                                                                                                                                                                                                                                                           1.059812e-15\n",
      "\" Poor Mr . and Miss Woodhouse , if you please ; but I can not possibly say ` poor Miss Taylor . '                                                                                                                                                                                                                                                                                                                                      1.045023e-15\n",
      "Name: 4, dtype: float64\n"
     ]
    }
   ],
   "source": [
    "X_train_tfidf, X_train, X_test_tfidf, X_test, tfidf_bypara = run_tfidf(emma_paras, max_df=0.5, min_df=2)\n",
    "X_lsa = run_dim_reduction(X_train_tfidf, X_train)"
   ]
  },
  {
   "cell_type": "markdown",
   "metadata": {
    "run_control": {
     "frozen": false,
     "read_only": false
    }
   },
   "source": [
    "# Sentence similarity\n",
    "\n",
    "We can also look at how similar various sentences are to one another.  For example, here are the similarity scores (as a heatmap) of the first 10 sentences in the training set:"
   ]
  },
  {
   "cell_type": "code",
   "execution_count": 246,
   "metadata": {
    "run_control": {
     "frozen": false,
     "read_only": false
    }
   },
   "outputs": [
    {
     "data": {
      "image/png": "[encoded data removed]",
      "text/plain": [
       "<Figure size 432x288 with 2 Axes>"
      ]
     },
     "metadata": {
      "needs_background": "light"
     },
     "output_type": "display_data"
    },
    {
     "name": "stdout",
     "output_type": "stream",
     "text": [
      "Key:\n",
      "0 \" mr . elton go to be marry ! \"\n",
      "1 emma could not feel a doubt of have give harriet ' s fancy a proper direction and raise the gratitude of  young vanity to a very good purpose , for  find  decidedly more sensible than before of mr . elton ' s be a remarkably handsome man , with most agreeable manner ; and as  have no hesitation in follow up the assurance of  admiration by agreeable hint ,  be soon pretty confident of create as much liking on harriet ' s side , as there could be any occasion for .\n",
      "2  now walk on together quietly , till within view of the vicarage pale , when a sudden resolution , of at least get harriet into the house , make  again find something very much amiss about  boot , and fall behind to arrange  once more .\n",
      "3 \" but  be very much , and without be at all ashamed of  .\n",
      "4 \" thank  .\n",
      "5 while  talk to isabella , however , emma find an opportunity of say ,\n",
      "6 real , long - stand regard bring the westons and mr . knightley ; and by mr . elton , a young man live alone without like  , the privilege of exchange any vacant evening of  own blank solitude for the elegancie and society of mr . woodhouse ' s draw - room , and the smile of  lovely daughter , be in no danger of be throw away .\n",
      "7 \"  be sorry there should be any thing like doubt in the case , \" reply emma ; \" but be dispose to side with  , mr . weston .\n",
      "8 \" come , come , \" cry emma , feel this to be an unsafe subject , \"  must beg  not to talk of the sea .\n",
      "9 \"  do not think  be conceit either , in general , \" say harriet ,  conscience oppose such censure ; \" at least ,  be very good natured , and  shall always feel much oblige to  , and have a great regard for  but that be quite a different thing from  and  know , though  may like  ,  do not follow that  should  and certainly  must confess that since  visiting here  have see people  and if one come to compare  , person and manner , there be no comparison at all , _ one _ be so very handsome and agreeable .\n"
     ]
    }
   ],
   "source": [
    "# Compute document similarity using LSA components\n",
    "similarity = np.asarray(np.asmatrix(X_lsa) * np.asmatrix(X_lsa).T)\n",
    "#Only taking the first 10 sentences\n",
    "sim_matrix=pd.DataFrame(similarity,index=X_train).iloc[0:10,0:10]\n",
    "#Making a plot\n",
    "ax = sns.heatmap(sim_matrix,yticklabels=range(10))\n",
    "plt.show()\n",
    "\n",
    "#Generating a key for the plot.\n",
    "print('Key:')\n",
    "for i in range(10):\n",
    "    print(i,sim_matrix.index[i])\n"
   ]
  },
  {
   "cell_type": "markdown",
   "metadata": {
    "run_control": {
     "frozen": false,
     "read_only": false
    }
   },
   "source": [
    "# Drill 0: Test set\n",
    "\n",
    "Now it's your turn: Apply our LSA model to the test set.  Does it identify similar sentences for components 0 through 4?  "
   ]
  },
  {
   "cell_type": "code",
   "execution_count": 247,
   "metadata": {
    "run_control": {
     "frozen": false,
     "read_only": false
    },
    "scrolled": false
   },
   "outputs": [
    {
     "name": "stdout",
     "output_type": "stream",
     "text": [
      "Percent variance captured by all components: 70.18651235041786\n",
      "\n",
      "\n",
      "Component 0:\n",
      "\"  do not know what  opinion may be , mrs . weston , \" say mr . knightley , \" of this great intimacy between emma and harriet smith , but  think  a bad thing . \"                                                                                                                                                                        0.542234\n",
      "\" emma never think of  , if  can do good to other , \" rejoin mr . woodhouse , understanding but in part .                                                                                                                                                                                                                                0.471503\n",
      "\" emma know  never flat  , \" say mr . knightley , \" but  mean no reflection on any body .                                                                                                                                                                                                                                                0.468215\n",
      "while  be go , mr . knightley call , and sit some time with mr . woodhouse and emma , till mr . woodhouse , who have previously make up  mind to walk out , be persuade by  daughter not to defer  , and be induce by the entreaty of both , though against the scruple of  own civility , to leave mr . knightley for that purpose .    0.453800\n",
      "\"  be very pretty , \" say mr . woodhouse .                                                                                                                                                                                                                                                                                               0.445214\n",
      "\" have  so !  then  know nothing of mr . elton .                                                                                                                                                                                                                                                                                         0.437882\n",
      "\"  have good move on , mr . weston , \" say  , \"  be detain the girl . \"                                                                                                                                                                                                                                                                  0.437770\n",
      "\"  believe  be very true ,  dear , indeed , \" say mr . woodhouse , with a sigh .                                                                                                                                                                                                                                                         0.435619\n",
      "mr . weston , with triumph of a different sort , be confess that  have know  to be snow some time , but have not say a word , lest  should make mr . woodhouse uncomfortable , and be an excuse for  hurrying away .                                                                                                                     0.419940\n",
      "mrs . weston laugh , and say  do not know what  be talk about .                                                                                                                                                                                                                                                                          0.412279\n",
      "Name: 0, dtype: float64\n",
      "\n",
      "\n",
      "Component 1:\n",
      "\"  be very much astonished , mr . elton .                                                                                                                                                                                                                                                                                                0.620419\n",
      "\" have  so !  then  know nothing of mr . elton .                                                                                                                                                                                                                                                                                         0.561714\n",
      "harriet , mr . elton , and mr . knightley ,  own especial set , be the only person invite to meet  ;  the hour be to be early , as well as the number few ; mr . woodhouse ' s habit and inclination be consult in every thing .                                                                                                         0.400017\n",
      "emma know that  have , but would not own  ; and mr . elton warmly add ,                                                                                                                                                                                                                                                                  0.395694\n",
      "while  be go , mr . knightley call , and sit some time with mr . woodhouse and emma , till mr . woodhouse , who have previously make up  mind to walk out , be persuade by  daughter not to defer  , and be induce by the entreaty of both , though against the scruple of  own civility , to leave mr . knightley for that purpose .    0.375895\n",
      "mr . elton return , a very happy man .                                                                                                                                                                                                                                                                                                   0.365746\n",
      "mr . woodhouse at last be off ; but mr . knightley , instead of be immediately off likewise , sit down again , seemingly incline for more chat .                                                                                                                                                                                         0.361283\n",
      "\" no   have never see mr . elton , \"  reply , start on this appeal ; \" be   be  a tall man ? \"                                                                                                                                                                                                                                           0.344919\n",
      "\" let  entreat  , \" cry mr . elton ; \"  would indeed be a delight !                                                                                                                                                                                                                                                                      0.327486\n",
      "\" christmas weather , \" observe mr . elton .                                                                                                                                                                                                                                                                                             0.312755\n",
      "Name: 1, dtype: float64\n",
      "\n",
      "\n",
      "Component 2:\n",
      "\" yes . \"                                                                                                                     0.660474\n",
      "\" yes , do . \"                                                                                                                0.660474\n",
      "\" yes ,  would be , but that  think there will be another put - off .                                                         0.647804\n",
      "\" yes  a good deal _ nearer _ . \"                                                                                             0.633184\n",
      "\" yes , very true .                                                                                                           0.570951\n",
      "\" yes , \" say john knightley , \" and  think  shall have a good deal of  . \"                                                   0.554118\n",
      "\" yes  ( rather hesitatingly )   believe  do . \"                                                                              0.523009\n",
      "\" yes , \" say mr . john knightley presently , with some slyness , \"  seem to have a great deal of good - will towards  . \"    0.516503\n",
      "\" oh yes , papa .                                                                                                             0.439798\n",
      "\" yes , to be sure ,  suppose there be .                                                                                      0.400625\n",
      "Name: 2, dtype: float64\n",
      "\n",
      "\n",
      "Component 3:\n",
      "\" dear  !                                                                                                               0.573322\n",
      "\"  dear , how be  to get so far ?                                                                                       0.508071\n",
      "\"  dear papa ,  send the whole hind - quarter .                                                                         0.498329\n",
      "\" but ,  dear papa ,  be suppose to be summer ; a warm day in summer .                                                  0.465315\n",
      "\" oh yes , papa .                                                                                                       0.456162\n",
      "\"  do not know ,  dear  but  be so long since  be here !  not since last easter , and then only for a few day . mr .    0.433177\n",
      "\" why , pretty well ,  dear , upon the whole .                                                                          0.415265\n",
      "mr . woodhouse hesitate . \" not near so often ,  dear , as  could wish . \"                                              0.406545\n",
      "\" middling ,  dear ;  can not compliment  .                                                                             0.406197\n",
      "\" yes , do . \"                                                                                                          0.394739\n",
      "Name: 3, dtype: float64\n",
      "\n",
      "\n",
      "Component 4:\n",
      "\" very true , miss woodhouse , so  will .                                                                                                                                                                                                                0.855338\n",
      "\" charming miss woodhouse !                                                                                                                                                                                                                              0.632435\n",
      "\" a new neighbour for  all , miss woodhouse ! \"                                                                                                                                                                                                          0.599888\n",
      " get as near as  could to thank  for miss taylor ' s merit , without seem quite to forget that in the common course of thing  be to be rather suppose that miss taylor have form miss woodhouse ' s character , than miss woodhouse miss taylor ' s .    0.578799\n",
      "for miss  , read miss smith .                                                                                                                                                                                                                            0.515367\n",
      "\" that ' s true , \"  cry  \" very true .                                                                                                                                                                                                                  0.514038\n",
      "\" very true , very true , indeed .                                                                                                                                                                                                                       0.514038\n",
      "there be no recover miss taylor  nor much likelihood of cease to pity  ; but a few week bring some alleviation to mr . woodhouse .                                                                                                                       0.439094\n",
      "\"  believe  be very true ,  dear , indeed , \" say mr . woodhouse , with a sigh .                                                                                                                                                                         0.400267\n",
      "\" very true , \" say harriet .                                                                                                                                                                                                                            0.394025\n",
      "Name: 4, dtype: float64\n"
     ]
    }
   ],
   "source": [
    "# Remember, you will use the same model, only with the test set data.  Don't fit a new model by mistake!\n",
    "X_tes_lsa = run_dim_reduction(X_test_tfidf, X_test)"
   ]
  },
  {
   "cell_type": "markdown",
   "metadata": {
    "run_control": {
     "frozen": false,
     "read_only": false
    }
   },
   "source": [
    "# Drill 1: Tweaking tf-idf\n",
    "\n",
    "Go back up to the code where we originally translated the text from words to numbers.  There are a lot of decision-points here, from the stop list to the thresholds for inclusion and exclusion, and many others as well.  We also didn't integrate spaCy, and so don't have info on lemmas or Named Entities.  Change things up a few times and see how that affects the results of the LSA.  Write up your observations and share them with your mentor."
   ]
  },
  {
   "cell_type": "markdown",
   "metadata": {},
   "source": [
    "# Improvement ideas:\n",
    "- Collapse words into lemmas\n",
    "- Expand stop-list?\n",
    "- Change threshold for inclusion"
   ]
  },
  {
   "cell_type": "code",
   "execution_count": 172,
   "metadata": {
    "run_control": {
     "frozen": false,
     "read_only": false
    }
   },
   "outputs": [],
   "source": [
    "#Tweaks Go Here\n"
   ]
  }
 ],
 "metadata": {
  "hide_input": false,
  "kernelspec": {
   "display_name": "Python 3",
   "language": "python",
   "name": "python3"
  },
  "language_info": {
   "codemirror_mode": {
    "name": "ipython",
    "version": 3
   },
   "file_extension": ".py",
   "mimetype": "text/x-python",
   "name": "python",
   "nbconvert_exporter": "python",
   "pygments_lexer": "ipython3",
   "version": "3.7.1"
  },
  "toc": {
   "colors": {
    "hover_highlight": "#DAA520",
    "running_highlight": "#FF0000",
    "selected_highlight": "#FFD700"
   },
   "moveMenuLeft": true,
   "nav_menu": {
    "height": "142px",
    "width": "252px"
   },
   "navigate_menu": true,
   "number_sections": true,
   "sideBar": true,
   "threshold": 4,
   "toc_cell": false,
   "toc_section_display": "block",
   "toc_window_display": false
  }
 },
 "nbformat": 4,
 "nbformat_minor": 2
}
