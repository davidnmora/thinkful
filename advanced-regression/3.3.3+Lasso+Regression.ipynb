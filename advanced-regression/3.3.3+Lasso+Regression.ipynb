{
 "cells": [
  {
   "cell_type": "code",
   "execution_count": 1,
   "metadata": {
    "hide_input": false
   },
   "outputs": [],
   "source": [
    "import pandas as pd\n",
    "from matplotlib import pyplot as plt\n",
    "import numpy as np\n",
    "import math\n",
    "import seaborn as sns\n",
    "import sklearn\n",
    "from sklearn import linear_model\n",
    "from sklearn import preprocessing\n",
    "%matplotlib inline\n",
    "sns.set_style('white')"
   ]
  },
  {
   "cell_type": "markdown",
   "metadata": {
    "run_control": {
     "frozen": false,
     "read_only": false
    }
   },
   "source": [
    "Ridge regression shrinks parameter estimates, but the estimates never reach exactly 0.  **LASSO** (Least Absolute Shrinkage and Selection Operator), on the other hand, is a model optimization mechanic that works by trying to force small parameter estimates to be equal to zero, effectively dropping them from the model.  This can prevent overfitting, and also works as an embedded feature selection method.  Lasso is extremely handy when you are dealing with thousands or hundreds of thousands of predictors and need to optimize processor time, or when you want to arrive at a simpler solution that is easier to interpret.\n",
    "\n",
    "The cost function to minimize for lasso is _very similar_ to the cost function minimized for ridge. Can you spot the difference?\n",
    "\n",
    "$$\\sum_{i=1}^n(y_i-(\\alpha+\\beta x_i))^2+\\lambda\\sum_{j=1}^p|\\beta_j| $$\n",
    "\n",
    "The difference is that rather than penalizing by the sum of *squared* coefficients as ridge does, lasso penalizes by the sum of the *absolute values* of the coefficients.  This means the penalty doesn't increase as swiftly with coefficient size.  Regularization based on the sum of the absolute weights is also called \"**L1 regularization**\".\n",
    "\n",
    "Why would penalizing with the sum of the absolute values of coefficients lead to a solution with zero estimates for some parameters, while penalizing with the sum of the squares of coefficients does not?  It all comes down to derivatives.\n",
    "\n",
    "We encountered derivatives briefly during an earlier assignment on the gradient descent algorithm.  You may recall that a partial derivative represents the sensitivity of one quantity to changes in another quantity.  In the case of both ordinary least squares regression and ridge regression, the derivative used to find the optimal solution is the partial derivative of the cost function relative to the coefficients in $\\beta$:\n",
    "\n",
    "$$\\frac{\\partial}{\\partial\\beta}$$\n",
    "\n",
    "Unfortunately, that won't work for lasso. While we can calculate a derivative for most of the values of $x$ in lasso, there is no derivative where $x=0$.  You can imagine this as our multi-dimensional surface made up of gradients having a big hole in it (the technical term for the hole is a \"*discontinuity*\"). If the gradient descent algorithm calculates a value that falls in the \"hole\", it has no idea where to go next.  The model \"fails to converge\". In other words, it fails to arrive at an optimal solution."
   ]
  },
  {
   "cell_type": "markdown",
   "metadata": {},
   "source": [
    "# Fitting Lasso: Coordinate Descent Algorithm\n",
    "\n",
    "Since basing modeling strategy on a surface with a hole in it is obviously not ideal, lasso regression models are optimized using a coordinate descent algorithm rather than a gradient descent algorithm.  Coordinate descent works like this:\n",
    "\n",
    "Pick some starting values for $\\beta$, often $\\beta=0$. \n",
    "\n",
    "For each feature $j$ in $\\beta$:\n",
    "* Predict the outcome using all features except for $j$.  \n",
    "* Look at how the residuals from the model using $\\beta_{-j}$ (all betas except $j$) correlate with feature $j$. This correlation is called $\\rho_j$.  \n",
    "* If the correlation falls within an area enclosing 0 defined by $\\lambda$, set $\\beta_j=0$. (called *soft threshholding*)\n",
    "* If $\\rho_j < \\frac{\\lambda}2$ set $\\beta_j$ equal to $\\rho_j + \\frac{\\lambda}2$\n",
    "* If $\\rho_j > \\frac{\\lambda}2$ set $\\beta_j$ equal to $\\rho_j - \\frac{\\lambda}2$\n",
    "\n",
    "This will iterate through all features 1 through $j$ on each cycle, then begin again.  Alternatively, the algorithm can be set to choose to exclude a feature at random each iteration, rather than cycling through all features.  Each time a feature is checked, it will shrink a bit from the previous time (unless the feature is already set to 0, in which case it will remain 0).\n",
    "\n",
    "Continue until the maximum difference between parameter estimates in the previous cycle and the current cycle is less than a pre-determined threshold $tol$.  For SKlearn, $tol$ defaults to 0.0001.\n",
    "\n",
    "To summarize: Lasso works by iteratively fitting a model to the data while excluding one of the features.  It then checks how well the model reproduces the data, and if the model fit is good enough (with \"good enough\" determined by $\\lambda$) then the excluded feature is deemed unnecessary and its $\\beta$ is set to zero, effectively excluding it from the model. Otherwise, the excluded feature's $\\beta$ is set using a combination of the correlation of the feature with the model residuals ($\\rho_j$) and $\\frac{\\lambda}2$ and a new iteration begins, using the newly-computed $\\beta$ for the previously-excluded feature and excluding a new feature.  This continues until the change in $\\beta$ is less than a pre-determined threshold.\n",
    "\n",
    "Hopefully this demonstrates how lasso can both create overfitting-protection through shrinkage and create sparsity (many parameters set to 0) through feature selection.  Let's see it at work, using the same dataset as previously."
   ]
  },
  {
   "cell_type": "code",
   "execution_count": 2,
   "metadata": {},
   "outputs": [
    {
     "name": "stderr",
     "output_type": "stream",
     "text": [
      "/usr/local/lib/python3.7/site-packages/ipykernel_launcher.py:11: DataConversionWarning: Data with input dtype int64, float64 were all converted to float64 by the scale function.\n",
      "  # This is added back by InteractiveShellApp.init_path()\n"
     ]
    }
   ],
   "source": [
    "# Load the data again. Keep air quality data, drop the index column\n",
    "# and any missing data columns.\n",
    "df = pd.read_csv(\n",
    "    'https://vincentarelbundock.github.io/Rdatasets/csv/ISLR/Default.csv'\n",
    ").iloc[:,1:].dropna()\n",
    "\n",
    "# Recode strings to numeric.\n",
    "df['default'] = np.where(df['default']=='Yes', 1, 0)\n",
    "df['student'] = np.where(df['student']=='Yes', 1, 0)\n",
    "names = df.columns\n",
    "df = pd.DataFrame(preprocessing.scale(df), columns=names)\n",
    "\n",
    "# Define the training and test sizes.\n",
    "trainsize = int(df.shape[0] / 2)\n",
    "df_test = df.iloc[trainsize:, :].copy()\n",
    "df_train = df.iloc[:trainsize, :].copy()\n",
    "\n",
    "Y_train = df_train['income'].values.reshape(-1, 1)\n",
    "X_train = df_train.loc[:, ~(df_train.columns).isin(['income'])]\n",
    "\n",
    "# Make some new features to capture potential quadratic and cubic\n",
    "# relationships between solar radiation and day or temperature.\n",
    "df_train['balance_student'] = df_train['balance'] * df_train['student']\n",
    "df_train['balance_default'] = df_train['balance'] * df_train['default']\n",
    "df_train['student_default'] = df_train['student'] * df_train['default']\n",
    "df_train['balance_sqrt'] = (df_train['balance'] + 100) ** .5\n",
    "df_train['balance2'] = (df_train['balance'] + 100) ** 2\n",
    "df_train['balance3'] = (df_train['balance'] + 100) ** 3\n",
    "\n",
    "X_train2 = df_train.loc[:, ~(df_train.columns).isin(['income'])]\n",
    "\n",
    "# Test the simpler model with smaller coefficients.\n",
    "Y_test = df_test['income'].values.reshape(-1, 1)\n",
    "X_test = df_test.loc[:, ~(df_test.columns).isin(['income'])]\n",
    "\n",
    "# Test the more complex model with larger coefficients.\n",
    "df_test['balance_student'] = df_test['balance'] * df_test['student']\n",
    "df_test['balance_default'] = df_test['balance'] * df_test['default']\n",
    "df_test['student_default'] = df_test['student'] * df_test['default']\n",
    "df_test['balance_sqrt'] = (df_test['balance'] + 100) ** .5\n",
    "df_test['balance2'] = (df_test['balance'] + 100) ** 2\n",
    "df_test['balance3'] = (df_test['balance'] + 100) ** 3\n",
    "X_test2 = df_test.loc[:, ~(df_test.columns).isin(['income'])]\n"
   ]
  },
  {
   "cell_type": "code",
   "execution_count": 3,
   "metadata": {},
   "outputs": [
    {
     "name": "stdout",
     "output_type": "stream",
     "text": [
      "R² for the model with few features:\n",
      "0.450062579301185\n",
      "\n",
      "Parameter estimates for the model with few features:\n",
      "[-0.         -0.40657726 -0.          0.00114596]\n",
      "\n",
      "R² for the model with many features:\n",
      "0.44363376712897096\n",
      "\n",
      "Parameter estimates for the model with many features:\n",
      "[ 0.00000000e+00 -3.89351238e-01  0.00000000e+00 -0.00000000e+00\n",
      "  0.00000000e+00 -0.00000000e+00  0.00000000e+00 -2.77688887e-04\n",
      " -7.09158792e-07  3.48711577e+00]\n"
     ]
    }
   ],
   "source": [
    "# Small number of parameters.\n",
    "lass = linear_model.Lasso(alpha=.35)\n",
    "lassfit = lass.fit(X_train, Y_train)\n",
    "print('R² for the model with few features:')\n",
    "print(lass.score(X_train, Y_train))\n",
    "origparams = np.append(lassfit.coef_, lassfit.intercept_)\n",
    "print('\\nParameter estimates for the model with few features:')\n",
    "print(origparams)\n",
    "\n",
    "# Large number of parameters.\n",
    "lassBig = linear_model.Lasso(alpha=.35)\n",
    "lassBig.fit(X_train2, Y_train)\n",
    "print('\\nR² for the model with many features:')\n",
    "print(lassBig.score(X_train2, Y_train))\n",
    "origparams = np.append(lassBig.coef_, lassBig.intercept_)\n",
    "print('\\nParameter estimates for the model with many features:')\n",
    "print(origparams)"
   ]
  },
  {
   "cell_type": "markdown",
   "metadata": {},
   "source": [
    "Checking predictive power using the test set:"
   ]
  },
  {
   "cell_type": "code",
   "execution_count": 4,
   "metadata": {},
   "outputs": [
    {
     "name": "stdout",
     "output_type": "stream",
     "text": [
      "0.44553225151184195\n",
      "0.4380466345914476\n"
     ]
    }
   ],
   "source": [
    "print(lass.score(X_test, Y_test))\n",
    "\n",
    "print(lassBig.score(X_test2, Y_test))"
   ]
  },
  {
   "cell_type": "markdown",
   "metadata": {},
   "source": [
    "## Regularization parameter: Lasso\n",
    "\n",
    "The $\\lambda$ for lasso can var between 0 (no penalty, acts like OLS) and infinity.  If $\\lambda$ is too large, all parameters will be set to zero.  \n",
    "\n",
    "Create a plot below of how $R^2$ varies across different values of $\\lambda$ for ridge and lasso regression. Use logic and code similar to the ridge regression demonstration above, and base your plot on the X_train2 feature set.\n",
    "\n",
    "Do lasso and ridge yield the same $R^2$ for a given lambda value?\n",
    "\n",
    "Submit your work and discuss the results with your mentor."
   ]
  },
  {
   "cell_type": "code",
   "execution_count": 15,
   "metadata": {},
   "outputs": [],
   "source": [
    "def test_regr(ridge_r_sqs, lasso_r_sqs, alpha):\n",
    "    # Ridge\n",
    "    ridgeregrBig = linear_model.Ridge(alpha=alpha, fit_intercept=False)\n",
    "    ridgeregrBig.fit(X_train2, Y_train)\n",
    "    ridge_r_sqs.append(ridgeregrBig.score(X_train2, Y_train)) # R^2\n",
    "    \n",
    "    # LASSO\n",
    "    lassBig = linear_model.Lasso(alpha=alpha)\n",
    "    lassBig.fit(X_train2, Y_train)\n",
    "    lasso_r_sqs.append(lassBig.score(X_train2, Y_train)) # R^2\n",
    "    \n",
    "    return"
   ]
  },
  {
   "cell_type": "markdown",
   "metadata": {},
   "source": [
    "## Comparing R^2 values\n",
    "### QUESTION: Why does Ridge remain constant, while Las"
   ]
  },
  {
   "cell_type": "code",
   "execution_count": 32,
   "metadata": {
    "scrolled": true
   },
   "outputs": [
    {
     "name": "stderr",
     "output_type": "stream",
     "text": [
      "/usr/local/lib/python3.7/site-packages/sklearn/linear_model/ridge.py:125: LinAlgWarning: Ill-conditioned matrix (rcond=6.85175e-23): result may not be accurate.\n",
      "  overwrite_a=True).T\n",
      "/usr/local/lib/python3.7/site-packages/ipykernel_launcher.py:9: UserWarning: With alpha=0, this algorithm does not converge well. You are advised to use the LinearRegression estimator\n",
      "  if __name__ == '__main__':\n",
      "/usr/local/lib/python3.7/site-packages/sklearn/linear_model/coordinate_descent.py:478: UserWarning: Coordinate descent with no regularization may lead to unexpected results and is discouraged.\n",
      "  positive)\n",
      "/usr/local/lib/python3.7/site-packages/sklearn/linear_model/coordinate_descent.py:492: ConvergenceWarning: Objective did not converge. You might want to increase the number of iterations. Fitting data with very small alpha may cause precision problems.\n",
      "  ConvergenceWarning)\n",
      "/usr/local/lib/python3.7/site-packages/sklearn/linear_model/ridge.py:125: LinAlgWarning: Ill-conditioned matrix (rcond=7.44694e-18): result may not be accurate.\n",
      "  overwrite_a=True).T\n",
      "/usr/local/lib/python3.7/site-packages/sklearn/linear_model/ridge.py:125: LinAlgWarning: Ill-conditioned matrix (rcond=1.49148e-17): result may not be accurate.\n",
      "  overwrite_a=True).T\n",
      "/usr/local/lib/python3.7/site-packages/sklearn/linear_model/ridge.py:125: LinAlgWarning: Ill-conditioned matrix (rcond=2.24025e-17): result may not be accurate.\n",
      "  overwrite_a=True).T\n",
      "/usr/local/lib/python3.7/site-packages/sklearn/linear_model/ridge.py:125: LinAlgWarning: Ill-conditioned matrix (rcond=2.9909e-17): result may not be accurate.\n",
      "  overwrite_a=True).T\n",
      "/usr/local/lib/python3.7/site-packages/sklearn/linear_model/ridge.py:125: LinAlgWarning: Ill-conditioned matrix (rcond=3.74333e-17): result may not be accurate.\n",
      "  overwrite_a=True).T\n",
      "/usr/local/lib/python3.7/site-packages/sklearn/linear_model/ridge.py:125: LinAlgWarning: Ill-conditioned matrix (rcond=4.49746e-17): result may not be accurate.\n",
      "  overwrite_a=True).T\n",
      "/usr/local/lib/python3.7/site-packages/sklearn/linear_model/ridge.py:125: LinAlgWarning: Ill-conditioned matrix (rcond=5.2532e-17): result may not be accurate.\n",
      "  overwrite_a=True).T\n",
      "/usr/local/lib/python3.7/site-packages/sklearn/linear_model/ridge.py:125: LinAlgWarning: Ill-conditioned matrix (rcond=6.01047e-17): result may not be accurate.\n",
      "  overwrite_a=True).T\n",
      "/usr/local/lib/python3.7/site-packages/sklearn/linear_model/ridge.py:125: LinAlgWarning: Ill-conditioned matrix (rcond=6.7692e-17): result may not be accurate.\n",
      "  overwrite_a=True).T\n",
      "/usr/local/lib/python3.7/site-packages/sklearn/linear_model/ridge.py:125: LinAlgWarning: Ill-conditioned matrix (rcond=7.52932e-17): result may not be accurate.\n",
      "  overwrite_a=True).T\n",
      "/usr/local/lib/python3.7/site-packages/sklearn/linear_model/ridge.py:125: LinAlgWarning: Ill-conditioned matrix (rcond=8.29076e-17): result may not be accurate.\n",
      "  overwrite_a=True).T\n",
      "/usr/local/lib/python3.7/site-packages/sklearn/linear_model/ridge.py:125: LinAlgWarning: Ill-conditioned matrix (rcond=9.05346e-17): result may not be accurate.\n",
      "  overwrite_a=True).T\n",
      "/usr/local/lib/python3.7/site-packages/sklearn/linear_model/ridge.py:125: LinAlgWarning: Ill-conditioned matrix (rcond=9.81737e-17): result may not be accurate.\n",
      "  overwrite_a=True).T\n",
      "/usr/local/lib/python3.7/site-packages/sklearn/linear_model/ridge.py:125: LinAlgWarning: Ill-conditioned matrix (rcond=1.05824e-16): result may not be accurate.\n",
      "  overwrite_a=True).T\n"
     ]
    }
   ],
   "source": [
    "# Your code here\n",
    "ridge_r_sqs = []\n",
    "lasso_r_sqs = []\n",
    "alphas = np.linspace(0,2,50)\n",
    "for alpha in alphas:\n",
    "    test_regr(ridge_r_sqs, lasso_r_sqs, alpha)"
   ]
  },
  {
   "cell_type": "code",
   "execution_count": 34,
   "metadata": {},
   "outputs": [
    {
     "data": {
      "text/plain": [
       "<matplotlib.legend.Legend at 0x11b981ac8>"
      ]
     },
     "execution_count": 34,
     "metadata": {},
     "output_type": "execute_result"
    },
    {
     "data": {
      "image/png": "[encoded data removed]",
      "text/plain": [
       "<Figure size 432x288 with 1 Axes>"
      ]
     },
     "metadata": {
      "needs_background": "light"
     },
     "output_type": "display_data"
    }
   ],
   "source": [
    "plt.plot(alphas, ridge_r_sqs, label='Ridge')\n",
    "plt.plot(alphas, lasso_r_sqs, label='LASSO')\n",
    "plt.xlabel('Lambda value')\n",
    "plt.ylabel('R^2 value')\n",
    "plt.legend()"
   ]
  }
 ],
 "metadata": {
  "hide_input": false,
  "kernelspec": {
   "display_name": "Python 3",
   "language": "python",
   "name": "python3"
  },
  "language_info": {
   "codemirror_mode": {
    "name": "ipython",
    "version": 3
   },
   "file_extension": ".py",
   "mimetype": "text/x-python",
   "name": "python",
   "nbconvert_exporter": "python",
   "pygments_lexer": "ipython3",
   "version": "3.7.1"
  },
  "toc": {
   "colors": {
    "hover_highlight": "#DAA520",
    "running_highlight": "#FF0000",
    "selected_highlight": "#FFD700"
   },
   "moveMenuLeft": true,
   "nav_menu": {
    "height": "96px",
    "width": "252px"
   },
   "navigate_menu": true,
   "number_sections": true,
   "sideBar": true,
   "threshold": 4,
   "toc_cell": false,
   "toc_section_display": "block",
   "toc_window_display": false
  }
 },
 "nbformat": 4,
 "nbformat_minor": 2
}
