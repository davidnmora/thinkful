{
 "cells": [
  {
   "cell_type": "code",
   "execution_count": 185,
   "metadata": {},
   "outputs": [],
   "source": [
    "%config IPCompleter.greedy=True\n",
    "%matplotlib inline\n",
    "import string\n",
    "import numpy as np\n",
    "import pandas as pd\n",
    "import scipy\n",
    "import sklearn\n",
    "from sklearn.metrics import confusion_matrix\n",
    "import matplotlib.pyplot as plt\n",
    "import seaborn as sns\n",
    "\n",
    "import math\n",
    "import warnings\n",
    "\n",
    "from IPython.display import display\n",
    "from sklearn import linear_model\n",
    "import statsmodels.formula.api as smf\n",
    "\n",
    "# Display preferences.\n",
    "pd.options.display.float_format = '{:.3f}'.format\n",
    "\n",
    "# Suppress annoying harmless error.\n",
    "warnings.filterwarnings(\n",
    "    action=\"ignore\",\n",
    "    module=\"scipy\",\n",
    "    message=\"^internal gelsd\"\n",
    ")"
   ]
  },
  {
   "cell_type": "markdown",
   "metadata": {},
   "source": [
    "## DRILL: Prepare the Data\n",
    "\n",
    "[Download the Excel file here](https://ucr.fbi.gov/crime-in-the-u.s/2013/crime-in-the-u.s.-2013/tables/table-8/table-8-state-cuts/table_8_offenses_known_to_law_enforcement_new_york_by_city_2013.xls) on crime data in New York State in 2013, provided by the FBI: UCR ([Thinkful mirror](https://raw.githubusercontent.com/Thinkful-Ed/data-201-resources/master/New_York_offenses/NEW_YORK-Offenses_Known_to_Law_Enforcement_by_City_2013%20-%2013tbl8ny.csv)).\n",
    "\n",
    "Prepare this data to model with multivariable regression (including data cleaning if necessary) according to this specification:\n",
    "\n",
    "$$ Property crime = \\alpha + Population + Population^2 + Murder + Robbery$$\n",
    "\n",
    "The 'population' variable is already set for you, but you will need to create the last three features.  \n",
    "\n",
    "__Robbery and Murder__ are currently continuous variables.  For this model, please use these variables to create  categorical features where values greater than 0 are coded 1, and values equal to 0 are coded 0.  \n",
    "\n",
    "Do some graphing to see if there are any anomalous cases, and decide how you want to deal with them."
   ]
  },
  {
   "cell_type": "code",
   "execution_count": 218,
   "metadata": {},
   "outputs": [],
   "source": [
    "def load_crime_data(file):\n",
    "    columns = ['City', 'Population', 'Violent crime',\n",
    "    'Murder and nonnegligent manslaughter',\n",
    "    'Rape (revised definition)', 'Rape (legacy definition)',\n",
    "    'Robbery', 'Aggravated assault', 'property_crime', 'Burglary',\n",
    "    'larceny_theft', 'Motor vehicle theft', 'Arson3']\n",
    "\n",
    "    df = pd.read_csv(file, low_memory=False, dtype={'Population': int},  thousands=',',)\n",
    "    df.columns = columns # original columns have \\n etc\n",
    "    \n",
    "    # Create binary columns\n",
    "    df['rape_binary'] = df['Rape (legacy definition)'].apply(lambda r: 1 if r > 0 else 0)\n",
    "    df.drop(columns=['Rape (legacy definition)', 'Rape (revised definition)'], inplace=True)\n",
    "    \n",
    "    df['murder_binary'] = df['Murder and nonnegligent manslaughter'].apply(lambda m: 1 if m > 0 else 0)\n",
    "    df.drop(columns=['Murder and nonnegligent manslaughter'], inplace=True)\n",
    "    \n",
    "    df['pop_squared'] = df['Population'].apply(lambda p: p**2)\n",
    "\n",
    "    # Five cities (NYC) stand out as extreme population outliers, so we drop them.\n",
    "    return df.drop(df[df.Population > 100000].index)"
   ]
  },
  {
   "cell_type": "code",
   "execution_count": 239,
   "metadata": {},
   "outputs": [],
   "source": [
    "file = 'new_york_crime_2013.csv'\n",
    "df = load_crime_data(file)"
   ]
  },
  {
   "cell_type": "code",
   "execution_count": 240,
   "metadata": {},
   "outputs": [
    {
     "data": {
      "text/html": [
       "<div>\n",
       "<style scoped>\n",
       "    .dataframe tbody tr th:only-of-type {\n",
       "        vertical-align: middle;\n",
       "    }\n",
       "\n",
       "    .dataframe tbody tr th {\n",
       "        vertical-align: top;\n",
       "    }\n",
       "\n",
       "    .dataframe thead th {\n",
       "        text-align: right;\n",
       "    }\n",
       "</style>\n",
       "<table border=\"1\" class=\"dataframe\">\n",
       "  <thead>\n",
       "    <tr style=\"text-align: right;\">\n",
       "      <th></th>\n",
       "      <th>City</th>\n",
       "      <th>Population</th>\n",
       "      <th>Violent crime</th>\n",
       "      <th>Robbery</th>\n",
       "      <th>Aggravated assault</th>\n",
       "      <th>property_crime</th>\n",
       "      <th>Burglary</th>\n",
       "      <th>larceny_theft</th>\n",
       "      <th>Motor vehicle theft</th>\n",
       "      <th>Arson3</th>\n",
       "      <th>rape_binary</th>\n",
       "      <th>murder_binary</th>\n",
       "      <th>pop_squared</th>\n",
       "    </tr>\n",
       "  </thead>\n",
       "  <tbody>\n",
       "    <tr>\n",
       "      <th>0</th>\n",
       "      <td>Adams Village</td>\n",
       "      <td>1861</td>\n",
       "      <td>0</td>\n",
       "      <td>0</td>\n",
       "      <td>0</td>\n",
       "      <td>12</td>\n",
       "      <td>2</td>\n",
       "      <td>10</td>\n",
       "      <td>0</td>\n",
       "      <td>0.000</td>\n",
       "      <td>0</td>\n",
       "      <td>0</td>\n",
       "      <td>3463321</td>\n",
       "    </tr>\n",
       "    <tr>\n",
       "      <th>1</th>\n",
       "      <td>Addison Town and Village</td>\n",
       "      <td>2577</td>\n",
       "      <td>3</td>\n",
       "      <td>0</td>\n",
       "      <td>3</td>\n",
       "      <td>24</td>\n",
       "      <td>3</td>\n",
       "      <td>20</td>\n",
       "      <td>1</td>\n",
       "      <td>0.000</td>\n",
       "      <td>0</td>\n",
       "      <td>0</td>\n",
       "      <td>6640929</td>\n",
       "    </tr>\n",
       "    <tr>\n",
       "      <th>2</th>\n",
       "      <td>Akron Village</td>\n",
       "      <td>2846</td>\n",
       "      <td>3</td>\n",
       "      <td>0</td>\n",
       "      <td>3</td>\n",
       "      <td>16</td>\n",
       "      <td>1</td>\n",
       "      <td>15</td>\n",
       "      <td>0</td>\n",
       "      <td>0.000</td>\n",
       "      <td>0</td>\n",
       "      <td>0</td>\n",
       "      <td>8099716</td>\n",
       "    </tr>\n",
       "    <tr>\n",
       "      <th>3</th>\n",
       "      <td>Albany</td>\n",
       "      <td>97956</td>\n",
       "      <td>791</td>\n",
       "      <td>227</td>\n",
       "      <td>526</td>\n",
       "      <td>4090</td>\n",
       "      <td>705</td>\n",
       "      <td>3243</td>\n",
       "      <td>142</td>\n",
       "      <td>nan</td>\n",
       "      <td>1</td>\n",
       "      <td>1</td>\n",
       "      <td>9595377936</td>\n",
       "    </tr>\n",
       "    <tr>\n",
       "      <th>4</th>\n",
       "      <td>Albion Village</td>\n",
       "      <td>6388</td>\n",
       "      <td>23</td>\n",
       "      <td>4</td>\n",
       "      <td>16</td>\n",
       "      <td>223</td>\n",
       "      <td>53</td>\n",
       "      <td>165</td>\n",
       "      <td>5</td>\n",
       "      <td>nan</td>\n",
       "      <td>1</td>\n",
       "      <td>0</td>\n",
       "      <td>40806544</td>\n",
       "    </tr>\n",
       "  </tbody>\n",
       "</table>\n",
       "</div>"
      ],
      "text/plain": [
       "                       City  Population  Violent crime  Robbery  \\\n",
       "0             Adams Village        1861              0        0   \n",
       "1  Addison Town and Village        2577              3        0   \n",
       "2             Akron Village        2846              3        0   \n",
       "3                    Albany       97956            791      227   \n",
       "4            Albion Village        6388             23        4   \n",
       "\n",
       "   Aggravated assault  property_crime  Burglary  larceny_theft  \\\n",
       "0                   0              12         2             10   \n",
       "1                   3              24         3             20   \n",
       "2                   3              16         1             15   \n",
       "3                 526            4090       705           3243   \n",
       "4                  16             223        53            165   \n",
       "\n",
       "   Motor vehicle theft  Arson3  rape_binary  murder_binary  pop_squared  \n",
       "0                    0   0.000            0              0      3463321  \n",
       "1                    1   0.000            0              0      6640929  \n",
       "2                    0   0.000            0              0      8099716  \n",
       "3                  142     nan            1              1   9595377936  \n",
       "4                    5     nan            1              0     40806544  "
      ]
     },
     "execution_count": 240,
     "metadata": {},
     "output_type": "execute_result"
    }
   ],
   "source": [
    "df.head()"
   ]
  },
  {
   "cell_type": "markdown",
   "metadata": {},
   "source": [
    "## Correlations"
   ]
  },
  {
   "cell_type": "code",
   "execution_count": 221,
   "metadata": {},
   "outputs": [
    {
     "data": {
      "image/png": "[encoded data removed]",
      "text/plain": [
       "<Figure size 432x288 with 2 Axes>"
      ]
     },
     "metadata": {
      "needs_background": "light"
     },
     "output_type": "display_data"
    }
   ],
   "source": [
    "sns.heatmap(df[['rape_binary', 'murder_binary', 'Population', 'pop_squared']].corr())\n",
    "plt.show()"
   ]
  },
  {
   "cell_type": "markdown",
   "metadata": {},
   "source": [
    "# Create Linear Regression Model -- 2.4.4\n",
    "Use the given model in the problem statement:\n",
    "$$ Property crime = \\alpha + Population + Population^2 + Murder + Robbery$$\n",
    "\n",
    "- ## Question: where did the author get that model?\n",
    "- ## *Why does larceny_theft almost perfectly correlate with property crime?*"
   ]
  },
  {
   "cell_type": "markdown",
   "metadata": {},
   "source": [
    "## Create and inspect model stats"
   ]
  },
  {
   "cell_type": "code",
   "execution_count": 222,
   "metadata": {},
   "outputs": [
    {
     "name": "stdout",
     "output_type": "stream",
     "text": [
      "\n",
      "Coefficients: \n",
      " [[-3.16696954e+00  4.86772884e+01 -4.01452016e-04 -4.99316855e-09\n",
      "   1.27019564e+00]]\n",
      "\n",
      "Intercept: \n",
      " [-4.46962488]\n",
      "\n",
      "R-squared:\n",
      "0.988901379864702\n"
     ]
    }
   ],
   "source": [
    "# Instantiate and fit our model.\n",
    "regr = linear_model.LinearRegression()\n",
    "Y = df['property_crime'].values.reshape(-1, 1)\n",
    "X = df[['rape_binary', 'murder_binary', 'Population', 'pop_squared'] + ['larceny_theft']]\n",
    "regr.fit(X, Y)\n",
    "\n",
    "# Inspect the results.\n",
    "print('\\nCoefficients: \\n', regr.coef_)\n",
    "print('\\nIntercept: \\n', regr.intercept_)\n",
    "print('\\nR-squared:')\n",
    "print(regr.score(X, Y))"
   ]
  },
  {
   "cell_type": "markdown",
   "metadata": {},
   "source": [
    "### `Larceny- theft` seems to correlate almost perfectly with `Property crime`... ?!"
   ]
  },
  {
   "cell_type": "code",
   "execution_count": 223,
   "metadata": {},
   "outputs": [
    {
     "data": {
      "text/plain": [
       "<matplotlib.axes._subplots.AxesSubplot at 0x12b20e5c0>"
      ]
     },
     "execution_count": 223,
     "metadata": {},
     "output_type": "execute_result"
    },
    {
     "data": {
      "image/png": "[encoded data removed]",
      "text/plain": [
       "<Figure size 432x288 with 2 Axes>"
      ]
     },
     "metadata": {
      "needs_background": "light"
     },
     "output_type": "display_data"
    }
   ],
   "source": [
    "df.plot.scatter(x='property_crime',\n",
    "                   y='larceny_theft',\n",
    "                   c='Population',\n",
    "                   colormap='viridis')"
   ]
  },
  {
   "cell_type": "markdown",
   "metadata": {},
   "source": [
    "### Risiduals"
   ]
  },
  {
   "cell_type": "code",
   "execution_count": 224,
   "metadata": {},
   "outputs": [
    {
     "data": {
      "image/png": "[encoded data removed]",
      "text/plain": [
       "<Figure size 432x288 with 1 Axes>"
      ]
     },
     "metadata": {
      "needs_background": "light"
     },
     "output_type": "display_data"
    }
   ],
   "source": [
    "# Extract predicted values.\n",
    "predicted = regr.predict(X).ravel()\n",
    "actual = df['property_crime']\n",
    "\n",
    "# Calculate the error, also called the residual.\n",
    "residual = actual - predicted\n",
    "\n",
    "# This looks a bit concerning.\n",
    "plt.hist(residual, bins=50)\n",
    "plt.title('Residual counts')\n",
    "plt.xlabel('Residual')\n",
    "plt.ylabel('Count')\n",
    "plt.show()"
   ]
  },
  {
   "cell_type": "markdown",
   "metadata": {},
   "source": [
    "## The model exhibits *heteroscedasticity* as population size increases\n",
    "__Question__: how do I address this?"
   ]
  },
  {
   "cell_type": "code",
   "execution_count": 225,
   "metadata": {},
   "outputs": [
    {
     "data": {
      "image/png": "[encoded data removed]",
      "text/plain": [
       "<Figure size 432x288 with 1 Axes>"
      ]
     },
     "metadata": {
      "needs_background": "light"
     },
     "output_type": "display_data"
    }
   ],
   "source": [
    "plt.scatter(predicted, residual, c=df['Population'])\n",
    "plt.xlabel('Predicted')\n",
    "plt.ylabel('Residual')\n",
    "plt.axhline(y=0)\n",
    "plt.title('Residual vs. Predicted')\n",
    "plt.show()"
   ]
  },
  {
   "cell_type": "markdown",
   "metadata": {},
   "source": [
    "# Challenge: Validating a linear regression, 2.5.2\n",
    "### Validating regression models for prediction\n",
    "Statistical tests are useful for making sure a model is a good fit to the test data, and that all the features are useful to the model. However, to make sure a model has good predictive validity for new data, it is necessary to assess the performance of the model on new datasets.\n",
    "\n",
    "The procedure is the same as what you learned in the Naive Bayes lesson – the holdout method and cross-validation method are both available. You've already had experience writing code to run these kinds of validation models for Naive Bayes: now you can try it again with linear regression. __In this case, your goal is to achieve a model with a consistent R2 and only statistically significant parameters across multiple samples.__\n",
    "\n",
    "You'll need to validate it using some of the other crime datasets available at the FBI:UCR website. Options include \n",
    "- other states crime rates in 2013 or \n",
    "- crime rates in New York State in other years or a combination of these.\n",
    "\n",
    "### Iterate\n",
    "Based on the results of your validation test, create a revised model, and then test both old and new models on a new holdout or set of folds.\n",
    "\n",
    "Include your model(s) and a brief writeup of the reasoning behind the validation method you chose and the changes you made to submit and review with your mentor."
   ]
  },
  {
   "cell_type": "markdown",
   "metadata": {},
   "source": [
    "## Check statistical significance of parameters"
   ]
  },
  {
   "cell_type": "code",
   "execution_count": 243,
   "metadata": {},
   "outputs": [
    {
     "name": "stdout",
     "output_type": "stream",
     "text": [
      "\n",
      "Params:\n",
      " Intercept       -4.470\n",
      "rape_binary     -3.167\n",
      "murder_binary   48.677\n",
      "Population      -0.000\n",
      "pop_squared     -0.000\n",
      "larceny_theft    1.270\n",
      "dtype: float64\n",
      "\n",
      "Pvalues:\n",
      " Intercept       0.335\n",
      "rape_binary     0.652\n",
      "murder_binary   0.000\n",
      "Population      0.451\n",
      "pop_squared     0.447\n",
      "larceny_theft   0.000\n",
      "dtype: float64\n",
      "\n",
      "R^2:\n",
      " 0.9889013798647018\n"
     ]
    },
    {
     "data": {
      "text/plain": [
       "<statsmodels.regression.linear_model.RegressionResultsWrapper at 0x12c3ef208>"
      ]
     },
     "execution_count": 243,
     "metadata": {},
     "output_type": "execute_result"
    }
   ],
   "source": [
    "def create_lm(linear_formula, df):\n",
    "    lm = smf.ols(formula=linear_formula, data=df).fit()\n",
    "    print(f'\\nParams:\\n {lm.params}')\n",
    "    print(f'\\nPvalues:\\n {lm.pvalues}')\n",
    "    print(f'\\nR^2:\\n {lm.rsquared}')\n",
    "    return lm\n",
    "\n",
    "linear_formula = 'property_crime ~ rape_binary+murder_binary+Population+pop_squared+larceny_theft'\n",
    "create_lm(linear_formula, df)"
   ]
  },
  {
   "cell_type": "markdown",
   "metadata": {},
   "source": [
    "### We can drop `rape_binary` and `Population`/`pop_squared`"
   ]
  },
  {
   "cell_type": "code",
   "execution_count": 235,
   "metadata": {},
   "outputs": [
    {
     "name": "stdout",
     "output_type": "stream",
     "text": [
      "\n",
      "Params:\n",
      " Intercept       -2.545\n",
      "murder_binary   40.528\n",
      "larceny_theft    1.216\n",
      "dtype: float64\n",
      "\n",
      "Pvalues:\n",
      " Intercept       0.380\n",
      "murder_binary   0.000\n",
      "larceny_theft   0.000\n",
      "dtype: float64\n",
      "\n",
      "R^2:\n",
      " 0.9893328203658205\n"
     ]
    },
    {
     "data": {
      "text/plain": [
       "<statsmodels.regression.linear_model.RegressionResultsWrapper at 0x12c3494e0>"
      ]
     },
     "execution_count": 235,
     "metadata": {},
     "output_type": "execute_result"
    }
   ],
   "source": [
    "linear_formula = 'property_crime ~ murder_binary+larceny_theft'\n",
    "create_lm(linear_formula,  df)"
   ]
  },
  {
   "cell_type": "markdown",
   "metadata": {},
   "source": [
    "## Test on 2014 NY data"
   ]
  },
  {
   "cell_type": "code",
   "execution_count": 237,
   "metadata": {},
   "outputs": [
    {
     "data": {
      "text/html": [
       "<div>\n",
       "<style scoped>\n",
       "    .dataframe tbody tr th:only-of-type {\n",
       "        vertical-align: middle;\n",
       "    }\n",
       "\n",
       "    .dataframe tbody tr th {\n",
       "        vertical-align: top;\n",
       "    }\n",
       "\n",
       "    .dataframe thead th {\n",
       "        text-align: right;\n",
       "    }\n",
       "</style>\n",
       "<table border=\"1\" class=\"dataframe\">\n",
       "  <thead>\n",
       "    <tr style=\"text-align: right;\">\n",
       "      <th></th>\n",
       "      <th>City</th>\n",
       "      <th>Population</th>\n",
       "      <th>Violent crime</th>\n",
       "      <th>Robbery</th>\n",
       "      <th>Aggravated assault</th>\n",
       "      <th>property_crime</th>\n",
       "      <th>Burglary</th>\n",
       "      <th>larceny_theft</th>\n",
       "      <th>Motor vehicle theft</th>\n",
       "      <th>Arson3</th>\n",
       "      <th>rape_binary</th>\n",
       "      <th>murder_binary</th>\n",
       "      <th>pop_squared</th>\n",
       "    </tr>\n",
       "  </thead>\n",
       "  <tbody>\n",
       "    <tr>\n",
       "      <th>0</th>\n",
       "      <td>Adams Village</td>\n",
       "      <td>1851</td>\n",
       "      <td>0</td>\n",
       "      <td>0</td>\n",
       "      <td>0</td>\n",
       "      <td>11.000</td>\n",
       "      <td>1</td>\n",
       "      <td>10.000</td>\n",
       "      <td>0</td>\n",
       "      <td>0.000</td>\n",
       "      <td>0</td>\n",
       "      <td>0</td>\n",
       "      <td>3426201</td>\n",
       "    </tr>\n",
       "    <tr>\n",
       "      <th>1</th>\n",
       "      <td>Addison Town and Village</td>\n",
       "      <td>2568</td>\n",
       "      <td>2</td>\n",
       "      <td>1</td>\n",
       "      <td>1</td>\n",
       "      <td>49.000</td>\n",
       "      <td>1</td>\n",
       "      <td>47.000</td>\n",
       "      <td>1</td>\n",
       "      <td>0.000</td>\n",
       "      <td>0</td>\n",
       "      <td>0</td>\n",
       "      <td>6594624</td>\n",
       "    </tr>\n",
       "    <tr>\n",
       "      <th>2</th>\n",
       "      <td>Afton Village4</td>\n",
       "      <td>820</td>\n",
       "      <td>0</td>\n",
       "      <td>0</td>\n",
       "      <td>0</td>\n",
       "      <td>1.000</td>\n",
       "      <td>0</td>\n",
       "      <td>1.000</td>\n",
       "      <td>0</td>\n",
       "      <td>0.000</td>\n",
       "      <td>0</td>\n",
       "      <td>0</td>\n",
       "      <td>672400</td>\n",
       "    </tr>\n",
       "    <tr>\n",
       "      <th>3</th>\n",
       "      <td>Akron Village</td>\n",
       "      <td>2842</td>\n",
       "      <td>1</td>\n",
       "      <td>0</td>\n",
       "      <td>1</td>\n",
       "      <td>17.000</td>\n",
       "      <td>0</td>\n",
       "      <td>17.000</td>\n",
       "      <td>0</td>\n",
       "      <td>0.000</td>\n",
       "      <td>0</td>\n",
       "      <td>0</td>\n",
       "      <td>8076964</td>\n",
       "    </tr>\n",
       "    <tr>\n",
       "      <th>4</th>\n",
       "      <td>Albany4</td>\n",
       "      <td>98595</td>\n",
       "      <td>802</td>\n",
       "      <td>237</td>\n",
       "      <td>503</td>\n",
       "      <td>3888.000</td>\n",
       "      <td>683</td>\n",
       "      <td>3083.000</td>\n",
       "      <td>122</td>\n",
       "      <td>12.000</td>\n",
       "      <td>0</td>\n",
       "      <td>1</td>\n",
       "      <td>9720974025</td>\n",
       "    </tr>\n",
       "  </tbody>\n",
       "</table>\n",
       "</div>"
      ],
      "text/plain": [
       "                       City  Population  Violent crime  Robbery  \\\n",
       "0             Adams Village        1851              0        0   \n",
       "1  Addison Town and Village        2568              2        1   \n",
       "2            Afton Village4         820              0        0   \n",
       "3             Akron Village        2842              1        0   \n",
       "4                   Albany4       98595            802      237   \n",
       "\n",
       "   Aggravated assault  property_crime  Burglary  larceny_theft  \\\n",
       "0                   0          11.000         1         10.000   \n",
       "1                   1          49.000         1         47.000   \n",
       "2                   0           1.000         0          1.000   \n",
       "3                   1          17.000         0         17.000   \n",
       "4                 503        3888.000       683       3083.000   \n",
       "\n",
       "   Motor vehicle theft  Arson3  rape_binary  murder_binary  pop_squared  \n",
       "0                    0   0.000            0              0      3426201  \n",
       "1                    1   0.000            0              0      6594624  \n",
       "2                    0   0.000            0              0       672400  \n",
       "3                    0   0.000            0              0      8076964  \n",
       "4                  122  12.000            0              1   9720974025  "
      ]
     },
     "execution_count": 237,
     "metadata": {},
     "output_type": "execute_result"
    }
   ],
   "source": [
    "file_2014 = 'new_york_crime_2014.csv'\n",
    "df_2014 = load_crime_data(file_2014)\n",
    "df.head()"
   ]
  },
  {
   "cell_type": "code",
   "execution_count": 244,
   "metadata": {
    "scrolled": false
   },
   "outputs": [
    {
     "name": "stdout",
     "output_type": "stream",
     "text": [
      "\n",
      "Params:\n",
      " Intercept       -2.545\n",
      "murder_binary   40.528\n",
      "larceny_theft    1.216\n",
      "dtype: float64\n",
      "\n",
      "Pvalues:\n",
      " Intercept       0.380\n",
      "murder_binary   0.000\n",
      "larceny_theft   0.000\n",
      "dtype: float64\n",
      "\n",
      "R^2:\n",
      " 0.9893328203658205\n"
     ]
    },
    {
     "data": {
      "text/plain": [
       "<statsmodels.regression.linear_model.RegressionResultsWrapper at 0x12c3d98d0>"
      ]
     },
     "execution_count": 244,
     "metadata": {},
     "output_type": "execute_result"
    }
   ],
   "source": [
    "linear_formula = 'property_crime ~ murder_binary+larceny_theft'\n",
    "create_lm(linear_formula, df_2014)"
   ]
  },
  {
   "cell_type": "code",
   "execution_count": null,
   "metadata": {},
   "outputs": [],
   "source": []
  }
 ],
 "metadata": {
  "kernelspec": {
   "display_name": "Python 3",
   "language": "python",
   "name": "python3"
  },
  "language_info": {
   "codemirror_mode": {
    "name": "ipython",
    "version": 3
   },
   "file_extension": ".py",
   "mimetype": "text/x-python",
   "name": "python",
   "nbconvert_exporter": "python",
   "pygments_lexer": "ipython3",
   "version": "3.7.1"
  }
 },
 "nbformat": 4,
 "nbformat_minor": 2
}
