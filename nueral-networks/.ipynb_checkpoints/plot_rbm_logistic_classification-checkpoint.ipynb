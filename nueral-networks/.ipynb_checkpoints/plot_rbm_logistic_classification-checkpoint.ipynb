{
 "cells": [
  {
   "cell_type": "code",
   "execution_count": 29,
   "metadata": {},
   "outputs": [],
   "source": [
    "from __future__ import print_function\n",
    "\n",
    "import numpy as np\n",
    "import matplotlib.pyplot as plt\n",
    "\n",
    "from scipy.ndimage import convolve\n",
    "from sklearn import linear_model, datasets, metrics\n",
    "from sklearn.model_selection import train_test_split\n",
    "from sklearn.neural_network import BernoulliRBM\n",
    "from sklearn.pipeline import Pipeline\n",
    "from sklearn.base import clone\n",
    "\n",
    "import pandas as pd\n",
    "%matplotlib inline"
   ]
  },
  {
   "cell_type": "markdown",
   "metadata": {},
   "source": [
    "\n",
    "# Restricted Boltzmann Machine features for digit classification\n",
    "\n",
    "\n",
    "For greyscale image data where pixel values can be interpreted as degrees of\n",
    "blackness on a white background, like handwritten digit recognition, the\n",
    "Bernoulli Restricted Boltzmann machine model (:class:`BernoulliRBM\n",
    "<sklearn.neural_network.BernoulliRBM>`) can perform effective non-linear\n",
    "feature extraction.\n",
    "\n",
    "In order to learn good latent representations from a small dataset, we\n",
    "artificially generate more labeled data by perturbing the training data with\n",
    "linear shifts of 1 pixel in each direction.\n",
    "\n",
    "This example shows how to build a classification pipeline with a BernoulliRBM\n",
    "feature extractor and a :class:`LogisticRegression\n",
    "<sklearn.linear_model.LogisticRegression>` classifier. The hyperparameters\n",
    "of the entire model (learning rate, hidden layer size, regularization)\n",
    "were optimized by grid search, but the search is not reproduced here because\n",
    "of runtime constraints.\n",
    "\n",
    "Logistic regression on raw pixel values is presented for comparison. The\n",
    "example shows that the features extracted by the BernoulliRBM help improve the\n",
    "classification accuracy.\n",
    "\n"
   ]
  },
  {
   "cell_type": "code",
   "execution_count": 7,
   "metadata": {},
   "outputs": [
    {
     "name": "stdout",
     "output_type": "stream",
     "text": [
      "downloading Olivetti faces from https://ndownloader.figshare.com/files/5976027 to /Users/davidmora/scikit_learn_data\n"
     ]
    }
   ],
   "source": [
    "faces = datasets.fetch_olivetti_faces()"
   ]
  },
  {
   "cell_type": "code",
   "execution_count": 11,
   "metadata": {},
   "outputs": [
    {
     "data": {
      "text/plain": [
       "dict_keys(['data', 'images', 'target', 'DESCR'])"
      ]
     },
     "execution_count": 11,
     "metadata": {},
     "output_type": "execute_result"
    }
   ],
   "source": [
    "faces.keys()"
   ]
  },
  {
   "cell_type": "code",
   "execution_count": 23,
   "metadata": {},
   "outputs": [],
   "source": [
    "X = np.asarray(faces.data, 'float32')"
   ]
  },
  {
   "cell_type": "markdown",
   "metadata": {},
   "source": [
    "### Sample image"
   ]
  },
  {
   "cell_type": "code",
   "execution_count": 26,
   "metadata": {},
   "outputs": [
    {
     "data": {
      "text/plain": [
       "<matplotlib.image.AxesImage at 0x124d948d0>"
      ]
     },
     "execution_count": 26,
     "metadata": {},
     "output_type": "execute_result"
    },
    {
     "data": {
      "image/png": "[encoded data removed]",
      "text/plain": [
       "<Figure size 432x288 with 1 Axes>"
      ]
     },
     "metadata": {
      "needs_background": "light"
     },
     "output_type": "display_data"
    }
   ],
   "source": [
    "_img = X[5].reshape((64, 64))\n",
    "plt.imshow(_img, cmap=plt.cm.gray_r, interpolation='nearest')"
   ]
  },
  {
   "cell_type": "code",
   "execution_count": 31,
   "metadata": {},
   "outputs": [],
   "source": [
    "def nudge_dataset(X, Y):\n",
    "    \"\"\"\n",
    "    This produces a dataset 5 times bigger than the original one,\n",
    "    by moving the 8x8 images in X around by 1px to left, right, down, up\n",
    "    \"\"\"\n",
    "    direction_vectors = [\n",
    "        [[0, 1, 0],\n",
    "         [0, 0, 0],\n",
    "         [0, 0, 0]],\n",
    "\n",
    "        [[0, 0, 0],\n",
    "         [1, 0, 0],\n",
    "         [0, 0, 0]],\n",
    "\n",
    "        [[0, 0, 0],\n",
    "         [0, 0, 1],\n",
    "         [0, 0, 0]],\n",
    "\n",
    "        [[0, 0, 0],\n",
    "         [0, 0, 0],\n",
    "         [0, 1, 0]]]\n",
    "\n",
    "    def shift(x, w):\n",
    "        return convolve(x.reshape((64, 64)), mode='constant', weights=w).ravel()\n",
    "\n",
    "    X = np.concatenate([X] +\n",
    "                       [np.apply_along_axis(shift, 1, X, vector)\n",
    "                        for vector in direction_vectors])\n",
    "    Y = np.concatenate([Y for _ in range(5)], axis=0)\n",
    "    return X, Y"
   ]
  },
  {
   "cell_type": "markdown",
   "metadata": {},
   "source": [
    "## Load data"
   ]
  },
  {
   "cell_type": "code",
   "execution_count": 32,
   "metadata": {},
   "outputs": [],
   "source": [
    "X = np.asarray(faces.data, 'float32')\n",
    "X, Y = nudge_dataset(X, faces.target)\n",
    "X = (X - np.min(X, 0)) / (np.max(X, 0) + 0.0001)  # 0-1 scaling\n",
    "\n",
    "X_train, X_test, Y_train, Y_test = train_test_split(\n",
    "    X, Y, test_size=0.2, random_state=0)\n",
    "\n",
    "# Models we will use\n",
    "logistic = linear_model.LogisticRegression(solver='lbfgs', max_iter=10000,\n",
    "                                           multi_class='multinomial')\n",
    "rbm = BernoulliRBM(random_state=0, verbose=True)\n",
    "\n",
    "rbm_features_classifier = Pipeline(steps=[('rbm', rbm), ('logistic', logistic)])"
   ]
  },
  {
   "cell_type": "markdown",
   "metadata": {},
   "source": [
    "# Train"
   ]
  },
  {
   "cell_type": "code",
   "execution_count": null,
   "metadata": {
    "scrolled": true
   },
   "outputs": [
    {
     "name": "stdout",
     "output_type": "stream",
     "text": [
      "[BernoulliRBM] Iteration 1, pseudo-likelihood = -2740.17, time = 1.14s\n",
      "[BernoulliRBM] Iteration 2, pseudo-likelihood = -2742.30, time = 1.37s\n",
      "[BernoulliRBM] Iteration 3, pseudo-likelihood = -2716.96, time = 1.17s\n",
      "[BernoulliRBM] Iteration 4, pseudo-likelihood = -2711.04, time = 1.12s\n",
      "[BernoulliRBM] Iteration 5, pseudo-likelihood = -2704.87, time = 1.11s\n",
      "[BernoulliRBM] Iteration 6, pseudo-likelihood = -2699.70, time = 1.10s\n",
      "[BernoulliRBM] Iteration 7, pseudo-likelihood = -2698.56, time = 1.42s\n",
      "[BernoulliRBM] Iteration 8, pseudo-likelihood = -2718.42, time = 1.21s\n",
      "[BernoulliRBM] Iteration 9, pseudo-likelihood = -2719.68, time = 1.25s\n",
      "[BernoulliRBM] Iteration 10, pseudo-likelihood = -2697.19, time = 1.23s\n",
      "[BernoulliRBM] Iteration 11, pseudo-likelihood = -2702.57, time = 1.15s\n",
      "[BernoulliRBM] Iteration 12, pseudo-likelihood = -2721.30, time = 1.16s\n",
      "[BernoulliRBM] Iteration 13, pseudo-likelihood = -2706.84, time = 1.13s\n",
      "[BernoulliRBM] Iteration 14, pseudo-likelihood = -2688.85, time = 1.31s\n",
      "[BernoulliRBM] Iteration 15, pseudo-likelihood = -2715.17, time = 1.22s\n",
      "[BernoulliRBM] Iteration 16, pseudo-likelihood = -2702.40, time = 1.32s\n",
      "[BernoulliRBM] Iteration 17, pseudo-likelihood = -2731.75, time = 1.34s\n",
      "[BernoulliRBM] Iteration 18, pseudo-likelihood = -2718.02, time = 1.13s\n",
      "[BernoulliRBM] Iteration 19, pseudo-likelihood = -2690.36, time = 1.14s\n",
      "[BernoulliRBM] Iteration 20, pseudo-likelihood = -2689.86, time = 1.33s\n"
     ]
    }
   ],
   "source": [
    "# #############################################################################\n",
    "# Training\n",
    "\n",
    "# Hyper-parameters. These were set by cross-validation,\n",
    "# using a GridSearchCV. Here we are not performing cross-validation to\n",
    "# save time.\n",
    "rbm.learning_rate = 0.06\n",
    "rbm.n_iter = 20\n",
    "# More components tend to give better prediction performance, but larger\n",
    "# fitting time\n",
    "rbm.n_components = 100\n",
    "logistic.C = 6000\n",
    "\n",
    "# Training RBM-Logistic Pipeline\n",
    "rbm_features_classifier.fit(X_train, Y_train)\n",
    "\n",
    "# Training the Logistic regression classifier directly on the pixel\n",
    "raw_pixel_classifier = clone(logistic)\n",
    "raw_pixel_classifier.C = 100.\n",
    "raw_pixel_classifier.fit(X_train, Y_train)"
   ]
  },
  {
   "cell_type": "markdown",
   "metadata": {},
   "source": [
    "## Evaluate, print extracted features"
   ]
  },
  {
   "cell_type": "code",
   "execution_count": null,
   "metadata": {},
   "outputs": [],
   "source": [
    "# #############################################################################\n",
    "# Evaluation\n",
    "\n",
    "Y_pred = rbm_features_classifier.predict(X_test)\n",
    "print(\"Logistic regression using RBM features:\\n%s\\n\" % (\n",
    "    metrics.classification_report(Y_test, Y_pred)))\n",
    "\n",
    "Y_pred = raw_pixel_classifier.predict(X_test)\n",
    "print(\"Logistic regression using raw pixel features:\\n%s\\n\" % (\n",
    "    metrics.classification_report(Y_test, Y_pred)))\n",
    "\n",
    "# #############################################################################\n",
    "# Plotting\n",
    "\n",
    "plt.figure(figsize=(4.2, 4))\n",
    "for i, comp in enumerate(rbm.components_):\n",
    "    plt.subplot(10, 10, i + 1)\n",
    "    plt.imshow(comp.reshape((8, 8)), cmap=plt.cm.gray_r,\n",
    "               interpolation='nearest')\n",
    "    plt.xticks(())\n",
    "    plt.yticks(())\n",
    "plt.suptitle('100 components extracted by RBM', fontsize=16)\n",
    "plt.subplots_adjust(0.08, 0.02, 0.92, 0.85, 0.08, 0.23)\n",
    "\n",
    "plt.show()"
   ]
  },
  {
   "cell_type": "code",
   "execution_count": null,
   "metadata": {},
   "outputs": [],
   "source": []
  }
 ],
 "metadata": {
  "kernelspec": {
   "display_name": "Python 3",
   "language": "python",
   "name": "python3"
  },
  "language_info": {
   "codemirror_mode": {
    "name": "ipython",
    "version": 3
   },
   "file_extension": ".py",
   "mimetype": "text/x-python",
   "name": "python",
   "nbconvert_exporter": "python",
   "pygments_lexer": "ipython3",
   "version": "3.7.1"
  }
 },
 "nbformat": 4,
 "nbformat_minor": 1
}
