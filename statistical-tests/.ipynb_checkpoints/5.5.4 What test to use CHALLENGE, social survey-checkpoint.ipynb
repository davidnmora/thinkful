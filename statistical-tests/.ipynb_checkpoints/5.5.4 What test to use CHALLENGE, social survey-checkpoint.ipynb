{
 "cells": [
  {
   "cell_type": "code",
   "execution_count": 1,
   "metadata": {},
   "outputs": [],
   "source": [
    "from matplotlib import pyplot as plt\n",
    "import numpy as np\n",
    "import pandas as pd\n",
    "import seaborn as sns\n",
    "from scipy import stats\n",
    "\n",
    "%matplotlib inline\n",
    "sns.set_style('white')"
   ]
  },
  {
   "cell_type": "markdown",
   "metadata": {},
   "source": [
    "For each question, explain why you chose the approach you did.\n",
    "\n",
    "In this dataset, the same participants answered questions in 2012 and again 2014.\n",
    "\n",
    "- Did people become less trusting from 2012 to 2014? Compute results for each country in the sample.\n",
    "- Did people become happier from 2012 to 2014? Compute results for each country in the sample.\n",
    "- Who reported watching more TV in 2012, men or women?\n",
    "- Who was more likely to believe people were fair in 2012, people living with a partner or people living alone?\n",
    "- Pick three or four of the countries in the sample and compare how often people met socially in 2014. Are there differences, and if so, which countries stand out?\n",
    "- Pick three or four of the countries in the sample and compare how often people took part in social activities, relative to others their age, in 2014. Are there differences, and if so, which countries stand out?"
   ]
  },
  {
   "cell_type": "markdown",
   "metadata": {},
   "source": [
    "## Import data"
   ]
  },
  {
   "cell_type": "code",
   "execution_count": 100,
   "metadata": {},
   "outputs": [],
   "source": [
    "df = pd.read_csv('https://raw.githubusercontent.com/Thinkful-Ed/data-201-resources/master/ESS_practice_data/ESSdata_Thinkful.csv')"
   ]
  },
  {
   "cell_type": "code",
   "execution_count": 101,
   "metadata": {
    "scrolled": true
   },
   "outputs": [],
   "source": [
    "df.year = df.year.apply(lambda year: 2012 if year == 6 else 2014)"
   ]
  },
  {
   "cell_type": "code",
   "execution_count": 102,
   "metadata": {},
   "outputs": [],
   "source": [
    "df = df[df.cntry != 'DE'].dropna() # To few records"
   ]
  },
  {
   "cell_type": "code",
   "execution_count": 103,
   "metadata": {},
   "outputs": [],
   "source": [
    "df.gndr = df.gndr.apply(lambda gender: 'Male' if gender == 1 else 'Female')"
   ]
  },
  {
   "cell_type": "code",
   "execution_count": 146,
   "metadata": {},
   "outputs": [],
   "source": [
    "df.partner = df.partner.apply(lambda partner: 'partner' if partner == 1.0 else 'no partner')"
   ]
  },
  {
   "cell_type": "code",
   "execution_count": 148,
   "metadata": {},
   "outputs": [
    {
     "data": {
      "text/html": [
       "<div>\n",
       "<style scoped>\n",
       "    .dataframe tbody tr th:only-of-type {\n",
       "        vertical-align: middle;\n",
       "    }\n",
       "\n",
       "    .dataframe tbody tr th {\n",
       "        vertical-align: top;\n",
       "    }\n",
       "\n",
       "    .dataframe thead th {\n",
       "        text-align: right;\n",
       "    }\n",
       "</style>\n",
       "<table border=\"1\" class=\"dataframe\">\n",
       "  <thead>\n",
       "    <tr style=\"text-align: right;\">\n",
       "      <th></th>\n",
       "      <th>cntry</th>\n",
       "      <th>idno</th>\n",
       "      <th>year</th>\n",
       "      <th>tvtot</th>\n",
       "      <th>ppltrst</th>\n",
       "      <th>pplfair</th>\n",
       "      <th>pplhlp</th>\n",
       "      <th>happy</th>\n",
       "      <th>sclmeet</th>\n",
       "      <th>sclact</th>\n",
       "      <th>gndr</th>\n",
       "      <th>agea</th>\n",
       "      <th>partner</th>\n",
       "    </tr>\n",
       "  </thead>\n",
       "  <tbody>\n",
       "    <tr>\n",
       "      <th>0</th>\n",
       "      <td>CH</td>\n",
       "      <td>5.0</td>\n",
       "      <td>2012</td>\n",
       "      <td>3.0</td>\n",
       "      <td>3.0</td>\n",
       "      <td>10.0</td>\n",
       "      <td>5.0</td>\n",
       "      <td>8.0</td>\n",
       "      <td>5.0</td>\n",
       "      <td>4.0</td>\n",
       "      <td>Female</td>\n",
       "      <td>60.0</td>\n",
       "      <td>partner</td>\n",
       "    </tr>\n",
       "    <tr>\n",
       "      <th>1</th>\n",
       "      <td>CH</td>\n",
       "      <td>25.0</td>\n",
       "      <td>2012</td>\n",
       "      <td>6.0</td>\n",
       "      <td>5.0</td>\n",
       "      <td>7.0</td>\n",
       "      <td>5.0</td>\n",
       "      <td>9.0</td>\n",
       "      <td>3.0</td>\n",
       "      <td>2.0</td>\n",
       "      <td>Female</td>\n",
       "      <td>59.0</td>\n",
       "      <td>partner</td>\n",
       "    </tr>\n",
       "    <tr>\n",
       "      <th>2</th>\n",
       "      <td>CH</td>\n",
       "      <td>26.0</td>\n",
       "      <td>2012</td>\n",
       "      <td>1.0</td>\n",
       "      <td>8.0</td>\n",
       "      <td>8.0</td>\n",
       "      <td>8.0</td>\n",
       "      <td>7.0</td>\n",
       "      <td>6.0</td>\n",
       "      <td>3.0</td>\n",
       "      <td>Male</td>\n",
       "      <td>24.0</td>\n",
       "      <td>no partner</td>\n",
       "    </tr>\n",
       "    <tr>\n",
       "      <th>3</th>\n",
       "      <td>CH</td>\n",
       "      <td>28.0</td>\n",
       "      <td>2012</td>\n",
       "      <td>4.0</td>\n",
       "      <td>6.0</td>\n",
       "      <td>6.0</td>\n",
       "      <td>7.0</td>\n",
       "      <td>10.0</td>\n",
       "      <td>6.0</td>\n",
       "      <td>2.0</td>\n",
       "      <td>Female</td>\n",
       "      <td>64.0</td>\n",
       "      <td>partner</td>\n",
       "    </tr>\n",
       "    <tr>\n",
       "      <th>4</th>\n",
       "      <td>CH</td>\n",
       "      <td>29.0</td>\n",
       "      <td>2012</td>\n",
       "      <td>5.0</td>\n",
       "      <td>6.0</td>\n",
       "      <td>7.0</td>\n",
       "      <td>5.0</td>\n",
       "      <td>8.0</td>\n",
       "      <td>7.0</td>\n",
       "      <td>2.0</td>\n",
       "      <td>Female</td>\n",
       "      <td>55.0</td>\n",
       "      <td>partner</td>\n",
       "    </tr>\n",
       "    <tr>\n",
       "      <th>6</th>\n",
       "      <td>CH</td>\n",
       "      <td>40.0</td>\n",
       "      <td>2012</td>\n",
       "      <td>3.0</td>\n",
       "      <td>0.0</td>\n",
       "      <td>5.0</td>\n",
       "      <td>2.0</td>\n",
       "      <td>0.0</td>\n",
       "      <td>2.0</td>\n",
       "      <td>2.0</td>\n",
       "      <td>Male</td>\n",
       "      <td>76.0</td>\n",
       "      <td>partner</td>\n",
       "    </tr>\n",
       "    <tr>\n",
       "      <th>7</th>\n",
       "      <td>CH</td>\n",
       "      <td>41.0</td>\n",
       "      <td>2012</td>\n",
       "      <td>2.0</td>\n",
       "      <td>4.0</td>\n",
       "      <td>5.0</td>\n",
       "      <td>3.0</td>\n",
       "      <td>10.0</td>\n",
       "      <td>5.0</td>\n",
       "      <td>2.0</td>\n",
       "      <td>Female</td>\n",
       "      <td>30.0</td>\n",
       "      <td>partner</td>\n",
       "    </tr>\n",
       "    <tr>\n",
       "      <th>8</th>\n",
       "      <td>CH</td>\n",
       "      <td>51.0</td>\n",
       "      <td>2012</td>\n",
       "      <td>2.0</td>\n",
       "      <td>8.0</td>\n",
       "      <td>8.0</td>\n",
       "      <td>8.0</td>\n",
       "      <td>9.0</td>\n",
       "      <td>6.0</td>\n",
       "      <td>4.0</td>\n",
       "      <td>Female</td>\n",
       "      <td>84.0</td>\n",
       "      <td>no partner</td>\n",
       "    </tr>\n",
       "    <tr>\n",
       "      <th>9</th>\n",
       "      <td>CH</td>\n",
       "      <td>53.0</td>\n",
       "      <td>2012</td>\n",
       "      <td>4.0</td>\n",
       "      <td>4.0</td>\n",
       "      <td>4.0</td>\n",
       "      <td>8.0</td>\n",
       "      <td>7.0</td>\n",
       "      <td>4.0</td>\n",
       "      <td>2.0</td>\n",
       "      <td>Female</td>\n",
       "      <td>62.0</td>\n",
       "      <td>partner</td>\n",
       "    </tr>\n",
       "    <tr>\n",
       "      <th>10</th>\n",
       "      <td>CH</td>\n",
       "      <td>55.0</td>\n",
       "      <td>2012</td>\n",
       "      <td>1.0</td>\n",
       "      <td>6.0</td>\n",
       "      <td>7.0</td>\n",
       "      <td>7.0</td>\n",
       "      <td>9.0</td>\n",
       "      <td>5.0</td>\n",
       "      <td>2.0</td>\n",
       "      <td>Female</td>\n",
       "      <td>33.0</td>\n",
       "      <td>partner</td>\n",
       "    </tr>\n",
       "  </tbody>\n",
       "</table>\n",
       "</div>"
      ],
      "text/plain": [
       "   cntry  idno  year  tvtot  ppltrst  pplfair  pplhlp  happy  sclmeet  sclact  \\\n",
       "0     CH   5.0  2012    3.0      3.0     10.0     5.0    8.0      5.0     4.0   \n",
       "1     CH  25.0  2012    6.0      5.0      7.0     5.0    9.0      3.0     2.0   \n",
       "2     CH  26.0  2012    1.0      8.0      8.0     8.0    7.0      6.0     3.0   \n",
       "3     CH  28.0  2012    4.0      6.0      6.0     7.0   10.0      6.0     2.0   \n",
       "4     CH  29.0  2012    5.0      6.0      7.0     5.0    8.0      7.0     2.0   \n",
       "6     CH  40.0  2012    3.0      0.0      5.0     2.0    0.0      2.0     2.0   \n",
       "7     CH  41.0  2012    2.0      4.0      5.0     3.0   10.0      5.0     2.0   \n",
       "8     CH  51.0  2012    2.0      8.0      8.0     8.0    9.0      6.0     4.0   \n",
       "9     CH  53.0  2012    4.0      4.0      4.0     8.0    7.0      4.0     2.0   \n",
       "10    CH  55.0  2012    1.0      6.0      7.0     7.0    9.0      5.0     2.0   \n",
       "\n",
       "      gndr  agea     partner  \n",
       "0   Female  60.0     partner  \n",
       "1   Female  59.0     partner  \n",
       "2     Male  24.0  no partner  \n",
       "3   Female  64.0     partner  \n",
       "4   Female  55.0     partner  \n",
       "6     Male  76.0     partner  \n",
       "7   Female  30.0     partner  \n",
       "8   Female  84.0  no partner  \n",
       "9   Female  62.0     partner  \n",
       "10  Female  33.0     partner  "
      ]
     },
     "execution_count": 148,
     "metadata": {},
     "output_type": "execute_result"
    }
   ],
   "source": [
    "df.head(10)"
   ]
  },
  {
   "cell_type": "code",
   "execution_count": 149,
   "metadata": {},
   "outputs": [],
   "source": [
    "df_12 = df[df.year == 2012]\n",
    "df_14 = df[df.year == 2014]"
   ]
  },
  {
   "cell_type": "markdown",
   "metadata": {},
   "source": [
    "# Q1: Did people become *less trusting* from 2012 to 2014? Compute results for each country in the sample."
   ]
  },
  {
   "cell_type": "code",
   "execution_count": 40,
   "metadata": {},
   "outputs": [
    {
     "data": {
      "image/png": "[encoded data removed]",
      "text/plain": [
       "<Figure size 490.375x432 with 1 Axes>"
      ]
     },
     "metadata": {
      "needs_background": "light"
     },
     "output_type": "display_data"
    }
   ],
   "source": [
    "g = sns.catplot(x=\"cntry\", y=\"ppltrst\", hue=\"year\", data=df,\n",
    "                   height=6, kind=\"bar\", palette=\"pastel\", ci=95)\n",
    "g.despine(left=True)\n",
    "g.set_ylabels(\"Trust\")\n",
    "g.set_xlabels(\"\")\n",
    "plt.title('Trust')\n",
    "plt.show()"
   ]
  },
  {
   "cell_type": "markdown",
   "metadata": {},
   "source": [
    "## A2: Two countries had significant changes: Spain and Sweden"
   ]
  },
  {
   "cell_type": "code",
   "execution_count": 79,
   "metadata": {},
   "outputs": [],
   "source": [
    "def show_sig_changes_by_country_for(measure, show_hist=False, hide_insig=False):\n",
    "\tfor country in df.cntry.unique():\n",
    "\t\t_12 = df_12[df_12.cntry == country][measure]\n",
    "\t\t_14 = df_14[df_14.cntry == country][measure]\n",
    "\t\t_tests = stats.ttest_ind(_12, _14, equal_var=False)\n",
    "\t\tpvalue = _tests.pvalue\n",
    "\t\tif pvalue <= 0.05 or not hide_insig:\n",
    "\t\t\tprint(f'COUNTRY: {country}\\nPtest: {pvalue}\\nMean change: {_14.mean() - _12.mean()}\\n')\n",
    "\t\tif show_hist:\n",
    "\t\t\t_12.hist()\n",
    "\t\t\tplt.show()\n",
    "\t\t\t_14.hist()\n",
    "\t\t\tplt.show()"
   ]
  },
  {
   "cell_type": "code",
   "execution_count": 80,
   "metadata": {
    "scrolled": false
   },
   "outputs": [
    {
     "name": "stdout",
     "output_type": "stream",
     "text": [
      "COUNTRY: ES\n",
      "Ptest: 0.03579229602395089\n",
      "Mean change: -0.187771289671117\n",
      "\n",
      "COUNTRY: SE\n",
      "Ptest: 0.04284038789289273\n",
      "Mean change: 0.19683438670270537\n",
      "\n"
     ]
    }
   ],
   "source": [
    "show_sig_changes_by_country_for('ppltrst', hide_insig=True)"
   ]
  },
  {
   "cell_type": "markdown",
   "metadata": {},
   "source": [
    "# Q2: Did people become happier from 2012 to 2014? Compute results for each country in the sample.\n",
    "## A2: Norway got stasticially significantly less happy."
   ]
  },
  {
   "cell_type": "code",
   "execution_count": 81,
   "metadata": {},
   "outputs": [
    {
     "name": "stdout",
     "output_type": "stream",
     "text": [
      "COUNTRY: NO\n",
      "Ptest: 3.461329079370803e-05\n",
      "Mean change: -0.3328810385323431\n",
      "\n"
     ]
    }
   ],
   "source": [
    "show_sig_changes_by_country_for('happy', hide_insig=True)"
   ]
  },
  {
   "cell_type": "markdown",
   "metadata": {},
   "source": [
    "# Q3: Who reported watching more TV in 2012, men or women?\n",
    "## A2: No statistically significant difference\n",
    "I used the Kruskal-Wallance since the distributions are non-parametric (non-normal)"
   ]
  },
  {
   "cell_type": "code",
   "execution_count": 135,
   "metadata": {},
   "outputs": [],
   "source": [
    "def NOT_USED(measure, group_col, show_hist=False, hide_insig=False):\n",
    "\tfor group in df[group_col].unique():\n",
    "\t\t_12 = df_12[df_12[group_col] == group][measure]\n",
    "\t\t_14 = df_14[df_14[group_col] == group][measure]\n",
    "\t\t_tests = stats.ttest_ind(_12, _14, equal_var=False)\n",
    "\t\tpvalue = _tests.pvalue\n",
    "\t\tif pvalue <= 0.05 or not hide_insig:\n",
    "\t\t\tprint(f'GROUP: {group}\\nPtest: {pvalue}\\nMean change: {_14.mean() - _12.mean()}\\n')\n",
    "\t\tif show_hist:\n",
    "\t\t\t_12.hist()\n",
    "\t\t\tplt.show()\n",
    "\t\t\t_14.hist()\n",
    "\t\t\tplt.show()"
   ]
  },
  {
   "cell_type": "code",
   "execution_count": 142,
   "metadata": {},
   "outputs": [],
   "source": [
    "def show_sig_changes_for(measure, group_col, val1, val2, test=stats.ttest_ind):\n",
    "\tval1_df = df_12[df_12[group_col] == val1][measure]\n",
    "\tval2_df = df_12[df_12[group_col] == val2][measure]\n",
    "\t_tests = test(val1_df, val2_df, equal_var=False)\n",
    "\tprint(f'Ptest: {_tests.pvalue}\\n{val1}: {val1_df.mean()}\\n{val2}: {val2_df.mean()}\\n')\n",
    "\tval1_df.hist()\n",
    "\tplt.title(val1)\n",
    "\tplt.show()\n",
    "\tval2_df.hist()\n",
    "\tplt.title(val2)\n",
    "\tplt.show()"
   ]
  },
  {
   "cell_type": "code",
   "execution_count": 143,
   "metadata": {},
   "outputs": [
    {
     "name": "stdout",
     "output_type": "stream",
     "text": [
      "Ptest: 0.4344491544705673\n",
      "Male: 3.85595703125\n",
      "Female: 3.9019900497512436\n",
      "\n"
     ]
    },
    {
     "data": {
      "image/png": "[encoded data removed]",
      "text/plain": [
       "<Figure size 432x288 with 1 Axes>"
      ]
     },
     "metadata": {
      "needs_background": "light"
     },
     "output_type": "display_data"
    },
    {
     "data": {
      "image/png": "[encoded data removed]",
      "text/plain": [
       "<Figure size 432x288 with 1 Axes>"
      ]
     },
     "metadata": {
      "needs_background": "light"
     },
     "output_type": "display_data"
    }
   ],
   "source": [
    "show_sig_changes_for('tvtot', group_col='gndr', val1='Male', val2='Female', test=stats.kruskal)"
   ]
  },
  {
   "cell_type": "markdown",
   "metadata": {},
   "source": [
    "# Q4: Who was more likely to believe people were fair in 2012, people living with a partner or people living alone?\n",
    "## A4: Respondents *without* partners were mere likely to believe people were fair, lol\n",
    "Here, I used ttest, because the distributions looked roughly normal to me."
   ]
  },
  {
   "cell_type": "code",
   "execution_count": 151,
   "metadata": {},
   "outputs": [
    {
     "name": "stdout",
     "output_type": "stream",
     "text": [
      "Ptest: 0.003364233687827727\n",
      "partner: 6.073007103393843\n",
      "no partner: 5.870734908136483\n",
      "\n"
     ]
    },
    {
     "data": {
      "image/png": "[encoded data removed]",
      "text/plain": [
       "<Figure size 432x288 with 1 Axes>"
      ]
     },
     "metadata": {
      "needs_background": "light"
     },
     "output_type": "display_data"
    },
    {
     "data": {
      "image/png": "[encoded data removed]",
      "text/plain": [
       "<Figure size 432x288 with 1 Axes>"
      ]
     },
     "metadata": {
      "needs_background": "light"
     },
     "output_type": "display_data"
    }
   ],
   "source": [
    "show_sig_changes_for('pplfair', group_col='partner', val1='partner', val2='no partner')"
   ]
  },
  {
   "cell_type": "markdown",
   "metadata": {},
   "source": [
    "# Q5: Pick three or four of the countries in the sample and compare how often people met socially in 2014. \n",
    "## Are there differences, and if so, which countries stand out?\n",
    "\n",
    "## A5: CZ is the odd one out from ES and NO\n",
    "## QUESTION: DO THESE DISTRIBUTIONS SEEM `NORMAL`?"
   ]
  },
  {
   "cell_type": "code",
   "execution_count": 188,
   "metadata": {},
   "outputs": [],
   "source": [
    "\n",
    "def get_country(country):\n",
    "    return df_14[df_14.cntry == country]\n",
    "\n",
    "def compare_counries(measure):\n",
    "    es_df = get_country('ES')[measure]\n",
    "    no_df = get_country('NO')[measure]\n",
    "    cz_df = get_country('CZ')[measure]\n",
    "\n",
    "\n",
    "    # Printing the means for each group.\n",
    "    for name, values in {'ES': es_df, 'NO': no_df, 'CZ': cz_df}.items():\n",
    "        print(name, values.mean())\n",
    "        es_df.hist()\n",
    "        plt.show()\n",
    "\n",
    "\n",
    "\n",
    "    F, p = stats.f_oneway(\n",
    "        es_df,\n",
    "        no_df,\n",
    "        cz_df)\n",
    "\n",
    "    # The F statistic.\n",
    "    print(f'F statistic: {F}')\n",
    "\n",
    "    # The probability. A p < .05 would lead us to believe the group means were\n",
    "    # not all similar in the population.\n",
    "    print(f'Pvalue: {p}')\n",
    "\n",
    "\n",
    "    print('INDIVIDUAL COMPARISONS')\n",
    "    print('es VS no', stats.ttest_ind(es_df, no_df))\n",
    "    print('es VS cz', stats.ttest_ind(es_df, cz_df))\n",
    "    print('cz VS no', stats.ttest_ind(cz_df, no_df))"
   ]
  },
  {
   "cell_type": "code",
   "execution_count": 189,
   "metadata": {},
   "outputs": [
    {
     "name": "stdout",
     "output_type": "stream",
     "text": [
      "ES 5.263668430335097\n"
     ]
    },
    {
     "data": {
      "image/png": "[encoded data removed]",
      "text/plain": [
       "<Figure size 432x288 with 1 Axes>"
      ]
     },
     "metadata": {
      "needs_background": "light"
     },
     "output_type": "display_data"
    },
    {
     "name": "stdout",
     "output_type": "stream",
     "text": [
      "NO 5.310393258426966\n"
     ]
    },
    {
     "data": {
      "image/png": "[encoded data removed]",
      "text/plain": [
       "<Figure size 432x288 with 1 Axes>"
      ]
     },
     "metadata": {
      "needs_background": "light"
     },
     "output_type": "display_data"
    },
    {
     "name": "stdout",
     "output_type": "stream",
     "text": [
      "CZ 4.4950495049504955\n"
     ]
    },
    {
     "data": {
      "image/png": "[encoded data removed]",
      "text/plain": [
       "<Figure size 432x288 with 1 Axes>"
      ]
     },
     "metadata": {
      "needs_background": "light"
     },
     "output_type": "display_data"
    },
    {
     "name": "stdout",
     "output_type": "stream",
     "text": [
      "F statistic: 70.27197995327798\n",
      "Pvalue: 2.112765366336169e-30\n",
      "INDIVIDUAL COMPARISONS\n",
      "es VS no Ttest_indResult(statistic=-0.6968046493592841, pvalue=0.48601288469157433)\n",
      "es VS cz Ttest_indResult(statistic=10.538036641317998, pvalue=3.262659263756715e-25)\n",
      "cz VS no Ttest_indResult(statistic=-10.507796823715257, pvalue=7.427021134307074e-25)\n"
     ]
    }
   ],
   "source": [
    "compare_counries('sclmeet')"
   ]
  },
  {
   "cell_type": "markdown",
   "metadata": {},
   "source": [
    "# Q6: Pick three or four of the countries in the sample and compare how often people took part in social activities, relative to others their age, in 2014. \n",
    "## Are there differences, and if so, which countries stand out?\n",
    "## A6: *All* countries differ significantly from each other"
   ]
  },
  {
   "cell_type": "code",
   "execution_count": 190,
   "metadata": {},
   "outputs": [
    {
     "name": "stdout",
     "output_type": "stream",
     "text": [
      "ES 2.631393298059965\n"
     ]
    },
    {
     "data": {
      "image/png": "[encoded data removed]",
      "text/plain": [
       "<Figure size 432x288 with 1 Axes>"
      ]
     },
     "metadata": {
      "needs_background": "light"
     },
     "output_type": "display_data"
    },
    {
     "name": "stdout",
     "output_type": "stream",
     "text": [
      "NO 2.860955056179775\n"
     ]
    },
    {
     "data": {
      "image/png": "[encoded data removed]",
      "text/plain": [
       "<Figure size 432x288 with 1 Axes>"
      ]
     },
     "metadata": {
      "needs_background": "light"
     },
     "output_type": "display_data"
    },
    {
     "name": "stdout",
     "output_type": "stream",
     "text": [
      "CZ 2.7293729372937294\n"
     ]
    },
    {
     "data": {
      "image/png": "[encoded data removed]",
      "text/plain": [
       "<Figure size 432x288 with 1 Axes>"
      ]
     },
     "metadata": {
      "needs_background": "light"
     },
     "output_type": "display_data"
    },
    {
     "name": "stdout",
     "output_type": "stream",
     "text": [
      "F statistic: 14.613491464335244\n",
      "Pvalue: 4.909229966078696e-07\n",
      "INDIVIDUAL COMPARISONS\n",
      "es VS no Ttest_indResult(statistic=-5.31751240602575, pvalue=1.1799291265139793e-07)\n",
      "es VS cz Ttest_indResult(statistic=-2.127732025799766, pvalue=0.03349971308846818)\n",
      "cz VS no Ttest_indResult(statistic=-2.861670223005847, pvalue=0.004280825791403077)\n"
     ]
    }
   ],
   "source": [
    "compare_counries('sclact')"
   ]
  },
  {
   "cell_type": "code",
   "execution_count": null,
   "metadata": {},
   "outputs": [],
   "source": []
  }
 ],
 "metadata": {
  "kernelspec": {
   "display_name": "Python 3",
   "language": "python",
   "name": "python3"
  },
  "language_info": {
   "codemirror_mode": {
    "name": "ipython",
    "version": 3
   },
   "file_extension": ".py",
   "mimetype": "text/x-python",
   "name": "python",
   "nbconvert_exporter": "python",
   "pygments_lexer": "ipython3",
   "version": "3.7.1"
  }
 },
 "nbformat": 4,
 "nbformat_minor": 2
}
