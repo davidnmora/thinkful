{
 "cells": [
  {
   "cell_type": "code",
   "execution_count": 3,
   "metadata": {},
   "outputs": [],
   "source": [
    "import pandas as pd"
   ]
  },
  {
   "cell_type": "markdown",
   "metadata": {},
   "source": [
    "# 1. And that's how they become the Brady Bunch"
   ]
  },
  {
   "cell_type": "code",
   "execution_count": 39,
   "metadata": {},
   "outputs": [
    {
     "data": {
      "text/html": [
       "<div>\n",
       "<style scoped>\n",
       "    .dataframe tbody tr th:only-of-type {\n",
       "        vertical-align: middle;\n",
       "    }\n",
       "\n",
       "    .dataframe tbody tr th {\n",
       "        vertical-align: top;\n",
       "    }\n",
       "\n",
       "    .dataframe thead th {\n",
       "        text-align: right;\n",
       "    }\n",
       "</style>\n",
       "<table border=\"1\" class=\"dataframe\">\n",
       "  <thead>\n",
       "    <tr style=\"text-align: right;\">\n",
       "      <th></th>\n",
       "      <th>age</th>\n",
       "    </tr>\n",
       "  </thead>\n",
       "  <tbody>\n",
       "    <tr>\n",
       "      <th>count</th>\n",
       "      <td>7.000000</td>\n",
       "    </tr>\n",
       "    <tr>\n",
       "      <th>mean</th>\n",
       "      <td>9.857143</td>\n",
       "    </tr>\n",
       "    <tr>\n",
       "      <th>std</th>\n",
       "      <td>2.734262</td>\n",
       "    </tr>\n",
       "    <tr>\n",
       "      <th>min</th>\n",
       "      <td>6.000000</td>\n",
       "    </tr>\n",
       "    <tr>\n",
       "      <th>25%</th>\n",
       "      <td>8.000000</td>\n",
       "    </tr>\n",
       "    <tr>\n",
       "      <th>50%</th>\n",
       "      <td>10.000000</td>\n",
       "    </tr>\n",
       "    <tr>\n",
       "      <th>75%</th>\n",
       "      <td>11.500000</td>\n",
       "    </tr>\n",
       "    <tr>\n",
       "      <th>max</th>\n",
       "      <td>14.000000</td>\n",
       "    </tr>\n",
       "  </tbody>\n",
       "</table>\n",
       "</div>"
      ],
      "text/plain": [
       "             age\n",
       "count   7.000000\n",
       "mean    9.857143\n",
       "std     2.734262\n",
       "min     6.000000\n",
       "25%     8.000000\n",
       "50%    10.000000\n",
       "75%    11.500000\n",
       "max    14.000000"
      ]
     },
     "execution_count": 39,
     "metadata": {},
     "output_type": "execute_result"
    }
   ],
   "source": [
    "kids = { \n",
    "    'Greg': 14,\n",
    "    'Marcia': 12,\n",
    "    'Peter': 11,\n",
    "    'Jan': 10,\n",
    "    'Bobby': 8,\n",
    "    'Cousin Oliver': 8,\n",
    "    'Cindy': 6,\n",
    "}\n",
    "kids_df = pd.DataFrame.from_dict(kids, orient='index', columns=['age'])\n",
    "kids_df.describe()\n",
    "# kids_df.hist()\n",
    "\n",
    "# mean = sum(kids)/len(kids) = ~9.86\n",
    "# median = 10\n",
    "# mode = 8\n",
    "\n",
    "# variance = kids.sum((val - mean)^2) / (len(kids) - 1) = 7.476\n",
    "# standard deviation = sqrt(variance?) = 2.734262\n",
    "# standard error = std dev / len(kids)^2 = 5.58 / & ^ 0.5 = ~1.033\n",
    "# ... from pandas = kids_df.sem(ddof=1) ==  1.033454\n",
    "\n",
    "\n"
   ]
  },
  {
   "cell_type": "markdown",
   "metadata": {},
   "source": [
    "# 2.\n",
    "__Mean for the central tendency__ since the data best clusters around 9.8.\n",
    "\n",
    "__Standard deviance for variance__ just becuase that's the descriptor I see most commonly used and understood, and it accuratley gives a sense *of the spread* of data: the vast majority of ages fall within 2 yaers of the mean."
   ]
  },
  {
   "cell_type": "markdown",
   "metadata": {},
   "source": [
    "# 3. Happy birthday Cindy"
   ]
  },
  {
   "cell_type": "markdown",
   "metadata": {},
   "source": [
    "Everything will change except:\n",
    "- median\n",
    "- mode\n",
    "\n",
    "Why? The mean increases to 10, and all measures of variance depend on the mean. Intuitively, there is also *a smaller spread* of values since 7 is closer to the mean than 6 was -- even to the new higher mean. This mean the `std` decreases from 2.73 to 2.51."
   ]
  },
  {
   "cell_type": "markdown",
   "metadata": {},
   "source": [
    "# 4. Bye, Cousin Oliver\n",
    "This data isn't even vaguely normally distributed now, and too small to really asses well. (Though, I get that it's an exersise meant to be worked through by hand).\n",
    "\n",
    "It might be clearest to say, *Excluding an outlier of age 1, [describe]...* and use mean and standard deviation, as before."
   ]
  },
  {
   "cell_type": "code",
   "execution_count": 40,
   "metadata": {},
   "outputs": [
    {
     "data": {
      "text/html": [
       "<div>\n",
       "<style scoped>\n",
       "    .dataframe tbody tr th:only-of-type {\n",
       "        vertical-align: middle;\n",
       "    }\n",
       "\n",
       "    .dataframe tbody tr th {\n",
       "        vertical-align: top;\n",
       "    }\n",
       "\n",
       "    .dataframe thead th {\n",
       "        text-align: right;\n",
       "    }\n",
       "</style>\n",
       "<table border=\"1\" class=\"dataframe\">\n",
       "  <thead>\n",
       "    <tr style=\"text-align: right;\">\n",
       "      <th></th>\n",
       "      <th>age</th>\n",
       "    </tr>\n",
       "  </thead>\n",
       "  <tbody>\n",
       "    <tr>\n",
       "      <th>count</th>\n",
       "      <td>6.000000</td>\n",
       "    </tr>\n",
       "    <tr>\n",
       "      <th>mean</th>\n",
       "      <td>10.166667</td>\n",
       "    </tr>\n",
       "    <tr>\n",
       "      <th>std</th>\n",
       "      <td>2.857738</td>\n",
       "    </tr>\n",
       "    <tr>\n",
       "      <th>min</th>\n",
       "      <td>6.000000</td>\n",
       "    </tr>\n",
       "    <tr>\n",
       "      <th>25%</th>\n",
       "      <td>8.500000</td>\n",
       "    </tr>\n",
       "    <tr>\n",
       "      <th>50%</th>\n",
       "      <td>10.500000</td>\n",
       "    </tr>\n",
       "    <tr>\n",
       "      <th>75%</th>\n",
       "      <td>11.750000</td>\n",
       "    </tr>\n",
       "    <tr>\n",
       "      <th>max</th>\n",
       "      <td>14.000000</td>\n",
       "    </tr>\n",
       "  </tbody>\n",
       "</table>\n",
       "</div>"
      ],
      "text/plain": [
       "             age\n",
       "count   6.000000\n",
       "mean   10.166667\n",
       "std     2.857738\n",
       "min     6.000000\n",
       "25%     8.500000\n",
       "50%    10.500000\n",
       "75%    11.750000\n",
       "max    14.000000"
      ]
     },
     "execution_count": 40,
     "metadata": {},
     "output_type": "execute_result"
    }
   ],
   "source": [
    "kids = { \n",
    "    'Greg': 14,\n",
    "    'Marcia': 12,\n",
    "    'Peter': 11,\n",
    "    'Jan': 10,\n",
    "    'Bobby': 8,\n",
    "#     'Cousin Oliver': 1,\n",
    "    'Cindy': 6,\n",
    "}\n",
    "kids_df = pd.DataFrame.from_dict(kids, orient='index', columns=['age'])\n",
    "kids_df.describe()"
   ]
  },
  {
   "cell_type": "code",
   "execution_count": 42,
   "metadata": {},
   "outputs": [
    {
     "data": {
      "text/plain": [
       "array([[<matplotlib.axes._subplots.AxesSubplot object at 0x1180504a8>]],\n",
       "      dtype=object)"
      ]
     },
     "execution_count": 42,
     "metadata": {},
     "output_type": "execute_result"
    },
    {
     "data": {
      "image/png": "[encoded data removed]",
      "text/plain": [
       "<Figure size 432x288 with 1 Axes>"
      ]
     },
     "metadata": {
      "needs_background": "light"
     },
     "output_type": "display_data"
    }
   ],
   "source": [
    "kids_df.hist()"
   ]
  },
  {
   "cell_type": "markdown",
   "metadata": {},
   "source": [
    "# 5. Guess the Fans\n",
    "I'd take a weighted average based on how popular each magezine was:\n",
    "- weighted by their (made up) popularity\n",
    "- *assumes no overlap between magezine subscribers* which is a fairly naive approach\n",
    "- and assuming the magezine subscribers are a representative sample of the American population\n",
    "This estimates (for our made-up numbers): __~22% of Americans are fans of the show__"
   ]
  },
  {
   "cell_type": "code",
   "execution_count": 45,
   "metadata": {},
   "outputs": [
    {
     "data": {
      "text/plain": [
       "22.299999999999997"
      ]
     },
     "execution_count": 45,
     "metadata": {},
     "output_type": "execute_result"
    }
   ],
   "source": [
    "ew = 0.7\n",
    "tg = 0.2\n",
    "pct = 0.1\n",
    "spp = 0.1\n",
    "american_popularity_est = 20 * tg + 23 * ew + 17 * pct + 5 * spp\n",
    "american_popularity_est"
   ]
  }
 ],
 "metadata": {
  "kernelspec": {
   "display_name": "Python 3",
   "language": "python",
   "name": "python3"
  },
  "language_info": {
   "codemirror_mode": {
    "name": "ipython",
    "version": 3
   },
   "file_extension": ".py",
   "mimetype": "text/x-python",
   "name": "python",
   "nbconvert_exporter": "python",
   "pygments_lexer": "ipython3",
   "version": "3.7.0"
  }
 },
 "nbformat": 4,
 "nbformat_minor": 2
}
